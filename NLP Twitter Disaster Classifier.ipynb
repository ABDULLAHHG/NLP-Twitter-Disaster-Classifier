{
 "cells": [
  {
   "cell_type": "code",
   "execution_count": 1,
   "id": "f3a937c9-c582-44ac-b956-920c8c6100be",
   "metadata": {},
   "outputs": [],
   "source": [
    "import pandas as pd\n",
    "import numpy as np "
   ]
  },
  {
   "cell_type": "markdown",
   "id": "615d62b9-c7c7-4d69-8cdb-08deaea6c189",
   "metadata": {},
   "source": [
    "### load the data"
   ]
  },
  {
   "cell_type": "code",
   "execution_count": 2,
   "id": "018a28e2-f5b9-49a8-be44-bfdf0d5da80b",
   "metadata": {},
   "outputs": [],
   "source": [
    "df_train = pd.read_csv('train.csv')\n",
    "df_test = pd.read_csv('test.csv')\n",
    "df_target = pd.read_csv('sample_submission.csv')"
   ]
  },
  {
   "cell_type": "code",
   "execution_count": 3,
   "id": "2e492ff5-6ff5-4c23-b9c2-46282cbb7f77",
   "metadata": {},
   "outputs": [
    {
     "data": {
      "text/plain": [
       "id             0\n",
       "keyword       61\n",
       "location    2533\n",
       "text           0\n",
       "target         0\n",
       "dtype: int64"
      ]
     },
     "execution_count": 3,
     "metadata": {},
     "output_type": "execute_result"
    }
   ],
   "source": [
    "df_train.isna().sum()\n"
   ]
  },
  {
   "cell_type": "code",
   "execution_count": 4,
   "id": "fbe20439-2d72-4776-ba90-6d84bd23708f",
   "metadata": {},
   "outputs": [
    {
     "data": {
      "text/plain": [
       "id             0\n",
       "keyword       26\n",
       "location    1105\n",
       "text           0\n",
       "dtype: int64"
      ]
     },
     "execution_count": 4,
     "metadata": {},
     "output_type": "execute_result"
    }
   ],
   "source": [
    "df_test.isna().sum()\n"
   ]
  },
  {
   "cell_type": "code",
   "execution_count": 5,
   "id": "1deec38e-f9fa-41d9-9312-3d9c8e221176",
   "metadata": {},
   "outputs": [
    {
     "data": {
      "text/plain": [
       "id        0\n",
       "target    0\n",
       "dtype: int64"
      ]
     },
     "execution_count": 5,
     "metadata": {},
     "output_type": "execute_result"
    }
   ],
   "source": [
    "df_target.isna().sum()\n"
   ]
  },
  {
   "cell_type": "code",
   "execution_count": 6,
   "id": "9f1d6a08-26ea-49e2-8177-995298b28253",
   "metadata": {},
   "outputs": [],
   "source": [
    "df_train.keyword = df_train.keyword.fillna(df_train.keyword.mode()[0])\n",
    "df_test.keyword = df_test.keyword.fillna(df_test.keyword.mode()[0])\n",
    "df_train = df_train.dropna()\n",
    "df_test = df_test.dropna()"
   ]
  },
  {
   "cell_type": "code",
   "execution_count": 7,
   "id": "9eb11aef-f33f-4332-a127-9c985928658b",
   "metadata": {},
   "outputs": [],
   "source": [
    "df_test['text'] = df_test['keyword'] + \" \"+df_test['location'] + \" \"+df_test['text']\n",
    "df_train['text'] = df_train['keyword'] + \" \"+df_train['location'] + \" \"+df_train['text']"
   ]
  },
  {
   "cell_type": "code",
   "execution_count": 8,
   "id": "72ca761a-cc3b-4bb9-8f1f-0f0b8b647631",
   "metadata": {},
   "outputs": [],
   "source": [
    "df_train = df_train.reset_index(drop=True)\n",
    "df_test = df_test.reset_index(drop=True)"
   ]
  },
  {
   "cell_type": "code",
   "execution_count": 9,
   "id": "684a3890-4989-4096-931a-6fdc15ef4baa",
   "metadata": {},
   "outputs": [],
   "source": [
    "df_test = pd.merge(df_test, df_target, on='id')"
   ]
  },
  {
   "cell_type": "markdown",
   "id": "58c9f64c-032d-4a78-8f1c-6e2b9e5b6521",
   "metadata": {},
   "source": [
    "###  Text Clean "
   ]
  },
  {
   "cell_type": "code",
   "execution_count": 10,
   "id": "5f701f4e-691d-4bd4-8266-160701c1de44",
   "metadata": {},
   "outputs": [],
   "source": [
    "# Libraries and packages for text (pre-)processing \n",
    "import string\n",
    "import re\n",
    "import nltk"
   ]
  },
  {
   "cell_type": "code",
   "execution_count": 11,
   "id": "ec8a36e8-6ea9-499b-ad1d-034ff148805a",
   "metadata": {},
   "outputs": [],
   "source": [
    "df_train[\"clean_text\"] = df_train[\"text\"].apply(lambda x: x.lower())\n",
    "df_test[\"clean_text\"] = df_test[\"text\"].apply(lambda x: x.lower())\n"
   ]
  },
  {
   "cell_type": "code",
   "execution_count": null,
   "id": "4c94a001-2825-430e-8750-cd443f631ade",
   "metadata": {},
   "outputs": [],
   "source": []
  },
  {
   "cell_type": "code",
   "execution_count": 12,
   "id": "a62b9ae3-37a9-4c96-b152-0566dab9cf18",
   "metadata": {},
   "outputs": [
    {
     "name": "stdout",
     "output_type": "stream",
     "text": [
      "Requirement already satisfied: contractions in /home/aboud/anaconda3/envs/tf/lib/python3.11/site-packages (0.1.73)\n",
      "Requirement already satisfied: textsearch>=0.0.21 in /home/aboud/anaconda3/envs/tf/lib/python3.11/site-packages (from contractions) (0.0.24)\n",
      "Requirement already satisfied: anyascii in /home/aboud/anaconda3/envs/tf/lib/python3.11/site-packages (from textsearch>=0.0.21->contractions) (0.3.2)\n",
      "Requirement already satisfied: pyahocorasick in /home/aboud/anaconda3/envs/tf/lib/python3.11/site-packages (from textsearch>=0.0.21->contractions) (2.1.0)\n"
     ]
    }
   ],
   "source": [
    "!pip install contractions"
   ]
  },
  {
   "cell_type": "code",
   "execution_count": 13,
   "id": "f7985810-3f64-4d6c-9431-49061ab658cf",
   "metadata": {},
   "outputs": [],
   "source": [
    "import contractions"
   ]
  },
  {
   "cell_type": "code",
   "execution_count": 14,
   "id": "c270f5c9-5064-426b-83ab-d781c4c05c6c",
   "metadata": {},
   "outputs": [],
   "source": [
    "df_train[\"clean_text\"] = df_train[\"clean_text\"].apply(lambda x: contractions.fix(x))\n",
    "df_test[\"clean_text\"] = df_test[\"clean_text\"].apply(lambda x: contractions.fix(x))\n"
   ]
  },
  {
   "cell_type": "code",
   "execution_count": 15,
   "id": "a4b76406-03fe-4b8f-a47c-68dd60c50b40",
   "metadata": {},
   "outputs": [
    {
     "data": {
      "text/plain": [
       "0       ablaze birmingham @bbcmtd wholesale markets ab...\n",
       "1       ablaze est. september 2012 - bristol we always...\n",
       "2       ablaze africa #africanbaze: breaking news:nige...\n",
       "3       ablaze philadelphia, pa crying out for more! s...\n",
       "4       ablaze london, uk on plus side look at the sky...\n",
       "                              ...                        \n",
       "5075    wrecked tn on the bright side i wrecked http:/...\n",
       "5076    wrecked #newcastleupontyne #uk @widda16 ... he...\n",
       "5077    wrecked vancouver, canada three days off from ...\n",
       "5078    wrecked london  #fx #forex #trading cramer: ig...\n",
       "5079    wrecked lincoln @engineshed great atmosphere a...\n",
       "Name: clean_text, Length: 5080, dtype: object"
      ]
     },
     "execution_count": 15,
     "metadata": {},
     "output_type": "execute_result"
    }
   ],
   "source": [
    "df_train[\"clean_text\"]"
   ]
  },
  {
   "cell_type": "code",
   "execution_count": 16,
   "id": "18bd3d3c-faa4-4fb2-bb18-926359972be5",
   "metadata": {},
   "outputs": [
    {
     "name": "stdout",
     "output_type": "stream",
     "text": [
      "ablaze Est. September 2012 - Bristol We always try to bring the heavy. #metal #RT http://t.co/YAo1e0xngw\n",
      "ablaze est. september 2012 - bristol we always try to bring the heavy. #metal #rt http://t.co/yao1e0xngw\n"
     ]
    }
   ],
   "source": [
    "print(df_train[\"text\"][1])\n",
    "print(df_train[\"clean_text\"][1])"
   ]
  },
  {
   "cell_type": "code",
   "execution_count": 17,
   "id": "984eb2bc-c63a-4461-a312-670c61e04c43",
   "metadata": {},
   "outputs": [
    {
     "name": "stdout",
     "output_type": "stream",
     "text": [
      "ablaze Niall's place | SAF 12 SQUAD | @sunkxssedharry will you wear shorts for race ablaze ?\n",
      "ablaze niall's place | saf 12 squad | @sunkxssedharry will you wear shorts for race ablaze ?\n"
     ]
    }
   ],
   "source": [
    "print(df_test[\"text\"][1])\n",
    "print(df_test[\"clean_text\"][1])"
   ]
  },
  {
   "cell_type": "code",
   "execution_count": 18,
   "id": "089982c4-f8c2-4a3d-9eb2-c5542a93a783",
   "metadata": {},
   "outputs": [],
   "source": [
    "def remove_URL(text):\n",
    "    \"\"\"\n",
    "        Remove URLs from a sample string\n",
    "    \"\"\"\n",
    "    return re.sub(r\"https?://\\S+|www\\.\\S+\", \"\", text)\n",
    "\n",
    "\n",
    "\n",
    "def remove_html(text):\n",
    "    \"\"\"\n",
    "        Remove the html in sample text\n",
    "    \"\"\"\n",
    "    html = re.compile(r\"<.*?>|&([a-z0-9]+|#[0-9]{1,6}|#x[0-9a-f]{1,6});\")\n",
    "    return re.sub(html, \"\", text)\n",
    "\n",
    "\n",
    "def remove_non_ascii(text):\n",
    "    \"\"\"\n",
    "        Remove non-ASCII characters \n",
    "    \"\"\"\n",
    "    return re.sub(r'[^\\x00-\\x7f]',r'', text) # or ''.join([x for x in text if x in string.printable]) \n",
    "\n",
    "\n",
    "def remove_punct(text):\n",
    "    \"\"\"\n",
    "        Remove the punctuation\n",
    "    \"\"\"\n",
    "#     return re.sub(r'[]!\"$%&\\'()*+,./:;=#@?[\\\\^_`{|}~-]+', \"\", text)\n",
    "    return text.translate(str.maketrans('', '', string.punctuation))"
   ]
  },
  {
   "cell_type": "code",
   "execution_count": 19,
   "id": "fede2716-9e61-4f0f-8459-ea203a652789",
   "metadata": {},
   "outputs": [
    {
     "name": "stdout",
     "output_type": "stream",
     "text": [
      "CPU times: user 3 μs, sys: 1 μs, total: 4 μs\n",
      "Wall time: 10.3 μs\n"
     ]
    }
   ],
   "source": [
    "%time\n",
    "# apply Remove URLs\n",
    "df_train[\"clean_text\"] = df_train[\"clean_text\"].apply(lambda x: remove_URL(x))\n",
    "df_test[\"clean_text\"] = df_test[\"clean_text\"].apply(lambda x: remove_URL(x))\n",
    "\n",
    "# apply Remove html\n",
    "df_train[\"clean_text\"] = df_train[\"clean_text\"].apply(lambda x: remove_html(x))\n",
    "df_test[\"clean_text\"] = df_test[\"clean_text\"].apply(lambda x: remove_html(x))\n",
    "\n",
    "# apply Remove non-ASCII\n",
    "df_train[\"clean_text\"] = df_train[\"clean_text\"].apply(lambda x: remove_non_ascii(x))\n",
    "df_test[\"clean_text\"] = df_test[\"clean_text\"].apply(lambda x: remove_non_ascii(x))\n",
    "\n",
    "# apply Remove punctuation\n",
    "df_train[\"clean_text\"] = df_train[\"clean_text\"].apply(lambda x: remove_punct(x))\n",
    "df_test[\"clean_text\"] = df_test[\"clean_text\"].apply(lambda x: remove_punct(x))"
   ]
  },
  {
   "cell_type": "markdown",
   "id": "48758256-51e6-476c-8835-61998363daa6",
   "metadata": {},
   "source": [
    "###  Text Preprocessing "
   ]
  },
  {
   "cell_type": "code",
   "execution_count": 20,
   "id": "0389bbfd-3e54-4981-8d64-48601a97d1b4",
   "metadata": {},
   "outputs": [
    {
     "name": "stdout",
     "output_type": "stream",
     "text": [
      "CPU times: user 3 μs, sys: 1 μs, total: 4 μs\n",
      "Wall time: 7.87 μs\n"
     ]
    },
    {
     "name": "stderr",
     "output_type": "stream",
     "text": [
      "[nltk_data] Downloading package punkt to /home/aboud/nltk_data...\n",
      "[nltk_data]   Package punkt is already up-to-date!\n"
     ]
    }
   ],
   "source": [
    "%time\n",
    "# Tokenizing the tweet base texts.\n",
    "from nltk.tokenize import word_tokenize\n",
    "nltk.download('punkt')\n",
    "df_train['tokenized'] = df_train['clean_text'].apply(word_tokenize)\n",
    "df_test['tokenized'] = df_test['clean_text'].apply(word_tokenize)\n"
   ]
  },
  {
   "cell_type": "code",
   "execution_count": 21,
   "id": "7bcf7619-8a35-42b5-bf99-d4befa0c9973",
   "metadata": {
    "scrolled": true
   },
   "outputs": [
    {
     "name": "stderr",
     "output_type": "stream",
     "text": [
      "[nltk_data] Downloading package stopwords to /home/aboud/nltk_data...\n",
      "[nltk_data]   Package stopwords is already up-to-date!\n"
     ]
    }
   ],
   "source": [
    "# Removing stopwords.\n",
    "nltk.download(\"stopwords\")\n",
    "from nltk.corpus import stopwords\n",
    "\n",
    "stop = set(stopwords.words('english'))\n",
    "df_train['stopwords_removed'] = df_train['tokenized'].apply(lambda x: [word for word in x if word not in stop])\n",
    "df_test['stopwords_removed'] = df_test['tokenized'].apply(lambda x: [word for word in x if word not in stop])\n"
   ]
  },
  {
   "cell_type": "code",
   "execution_count": 22,
   "id": "bc72d3b6-fe41-4c51-afdf-891a8a076fbd",
   "metadata": {},
   "outputs": [],
   "source": [
    "from nltk.stem import SnowballStemmer\n",
    "from nltk.stem import LancasterStemmer\n",
    "from nltk.stem import PorterStemmer\n",
    "\n",
    "\n",
    "def porter_stemmer(text):\n",
    "    \"\"\"\n",
    "        Stem words in list of tokenized words with PorterStemmer\n",
    "    \"\"\"\n",
    "    stemmer = nltk.PorterStemmer()\n",
    "    stems = [stemmer.stem(i) for i in text]\n",
    "    return stems\n",
    "\n",
    "def lancaster_stemmer(text):\n",
    "    \"\"\"\n",
    "        Stem words in list of tokenized words with LancasterStemmer\n",
    "    \"\"\"\n",
    "    stemmer = nltk.LancasterStemmer()\n",
    "    stems = [stemmer.stem(i) for i in text]\n",
    "    return stems\n",
    "\n",
    "def snowball_stemmer(text):\n",
    "    \"\"\"\n",
    "        Stem words in list of tokenized words with SnowballStemmer\n",
    "    \"\"\"\n",
    "    stemmer = nltk.SnowballStemmer(\"english\")\n",
    "    stems = [stemmer.stem(i) for i in text]\n",
    "    return stems\n",
    "\n",
    "\n"
   ]
  },
  {
   "cell_type": "code",
   "execution_count": 23,
   "id": "d1c9c336-8d05-4cf8-b1ec-d57dd689a408",
   "metadata": {},
   "outputs": [
    {
     "name": "stdout",
     "output_type": "stream",
     "text": [
      "CPU times: user 5 μs, sys: 1 μs, total: 6 μs\n",
      "Wall time: 11.7 μs\n"
     ]
    }
   ],
   "source": [
    "%time \n",
    "\n",
    "df_train['porter_stemmer'] = df_train['stopwords_removed'].apply(lambda x: porter_stemmer(x))\n",
    "df_test['porter_stemmer'] = df_test['stopwords_removed'].apply(lambda x: porter_stemmer(x))\n",
    "\n",
    "df_train['lancaster_stemmer'] = df_train['stopwords_removed'].apply(lambda x: lancaster_stemmer(x))\n",
    "df_test['lancaster_stemmer'] = df_test['stopwords_removed'].apply(lambda x: lancaster_stemmer(x))\n",
    "\n",
    "df_train['snowball_stemmer'] = df_train['stopwords_removed'].apply(lambda x: snowball_stemmer(x))\n",
    "df_test['snowball_stemmer'] = df_test['stopwords_removed'].apply(lambda x: snowball_stemmer(x))\n"
   ]
  },
  {
   "cell_type": "code",
   "execution_count": 24,
   "id": "7918efd7-cf4a-4faf-83b2-dd0bd60d181b",
   "metadata": {},
   "outputs": [
    {
     "name": "stderr",
     "output_type": "stream",
     "text": [
      "[nltk_data] Downloading package brown to /home/aboud/nltk_data...\n",
      "[nltk_data]   Package brown is already up-to-date!\n",
      "[nltk_data] Downloading package wordnet to /home/aboud/nltk_data...\n",
      "[nltk_data]   Package wordnet is already up-to-date!\n"
     ]
    }
   ],
   "source": [
    "# Uncomments if u havent download it yet\n",
    "\n",
    "nltk.download('brown')\n",
    "nltk.download('wordnet')\n",
    "\n",
    "from nltk.corpus import wordnet\n",
    "from nltk.corpus import brown\n",
    "\n",
    "wordnet_map = {\"N\":wordnet.NOUN, \n",
    "               \"V\":wordnet.VERB, \n",
    "               \"J\":wordnet.ADJ, \n",
    "               \"R\":wordnet.ADV\n",
    "              }\n",
    "    \n",
    "train_sents = brown.tagged_sents(categories='news')\n",
    "\n",
    "# fallback for unknown words.\n",
    "t0 = nltk.DefaultTagger('NN')\n",
    "\n",
    "# Creates a unigram tagger\n",
    "t1 = nltk.UnigramTagger(train_sents, backoff=t0)\n",
    "\n",
    "# Creates a bigram tagger\n",
    "t2 = nltk.BigramTagger(train_sents, backoff=t1)\n",
    "\n",
    "def pos_tag_wordnet(text, pos_tag_type=\"pos_tag\"):\n",
    "    \"\"\"\n",
    "        Create pos_tag with wordnet format\n",
    "    \"\"\"\n",
    "    pos_tagged_text = t2.tag(text)\n",
    "    \n",
    "    # map the pos tagging output with wordnet output \n",
    "    pos_tagged_text = [(word, wordnet_map.get(pos_tag[0])) if pos_tag[0] in wordnet_map.keys() else (word, wordnet.NOUN) for (word, pos_tag) in pos_tagged_text ]\n",
    "    return pos_tagged_text"
   ]
  },
  {
   "cell_type": "code",
   "execution_count": 25,
   "id": "826d145c-1d5f-416c-9b2c-c8c5076adbbb",
   "metadata": {},
   "outputs": [
    {
     "name": "stdout",
     "output_type": "stream",
     "text": [
      "CPU times: user 7 μs, sys: 0 ns, total: 7 μs\n",
      "Wall time: 15 μs\n"
     ]
    }
   ],
   "source": [
    "%time \n",
    "# Apply part of speech tag without wordnet on train and test data \n",
    "df_train['combined_postag_wnet'] = df_train['stopwords_removed'].apply(lambda x: pos_tag_wordnet(x))\n",
    "df_test['combined_postag_wnet'] = df_test['stopwords_removed'].apply(lambda x: pos_tag_wordnet(x))\n"
   ]
  },
  {
   "cell_type": "code",
   "execution_count": 26,
   "id": "0e3ff3c1-5a9a-4b24-b778-3e7e13a089e2",
   "metadata": {},
   "outputs": [],
   "source": [
    "from nltk.stem import WordNetLemmatizer\n",
    "\n",
    "def lemmatize_word(text):\n",
    "    \"\"\"\n",
    "        Lemmatize the tokenized words\n",
    "    \"\"\"\n",
    "\n",
    "    lemmatizer = WordNetLemmatizer()\n",
    "    lemma = [lemmatizer.lemmatize(word, tag) for word, tag in text]\n",
    "    return lemma"
   ]
  },
  {
   "cell_type": "code",
   "execution_count": 27,
   "id": "bca8fe6b-5001-4847-ac21-7b449938b96d",
   "metadata": {},
   "outputs": [],
   "source": [
    "# Test without POS Tagging\n",
    "lemmatizer = WordNetLemmatizer()\n",
    "\n",
    "df_train['lemmatize_word_wo_pos'] = df_train['stopwords_removed'].apply(lambda x: [lemmatizer.lemmatize(word) for word in x])\n",
    "df_train['lemmatize_word_wo_pos'] = df_train['lemmatize_word_wo_pos'].apply(lambda x: [word for word in x if word not in stop]) # double check to remove stop words\n",
    "\n",
    "df_test['lemmatize_word_wo_pos'] = df_test['stopwords_removed'].apply(lambda x: [lemmatizer.lemmatize(word) for word in x])\n",
    "df_test['lemmatize_word_wo_pos'] = df_test['lemmatize_word_wo_pos'].apply(lambda x: [word for word in x if word not in stop]) # double check to remove stop words\n",
    "\n"
   ]
  },
  {
   "cell_type": "code",
   "execution_count": 28,
   "id": "4ef47491-9ed8-4d3a-8a34-f5c12dd007d9",
   "metadata": {},
   "outputs": [
    {
     "name": "stdout",
     "output_type": "stream",
     "text": [
      "CPU times: user 5 μs, sys: 0 ns, total: 5 μs\n",
      "Wall time: 10.7 μs\n"
     ]
    }
   ],
   "source": [
    "%time \n",
    "\n",
    "# Test with POS Tagging\n",
    "lemmatizer = WordNetLemmatizer()\n",
    "\n",
    "df_train['lemmatize_word_w_pos'] = df_train['combined_postag_wnet'].apply(lambda x: lemmatize_word(x))\n",
    "df_train['lemmatize_word_w_pos'] = df_train['lemmatize_word_w_pos'].apply(lambda x: [word for word in x if word not in stop]) # double check to remove stop words\n",
    "df_train['lemmatize_text'] = [' '.join(map(str, l)) for l in df_train['lemmatize_word_w_pos']] # join back to text\n",
    "\n",
    "\n",
    "df_test['lemmatize_word_w_pos'] = df_test['combined_postag_wnet'].apply(lambda x: lemmatize_word(x))\n",
    "df_test['lemmatize_word_w_pos'] = df_test['lemmatize_word_w_pos'].apply(lambda x: [word for word in x if word not in stop]) # double check to remove stop words\n",
    "df_test['lemmatize_text'] = [' '.join(map(str, l)) for l in df_test['lemmatize_word_w_pos']] # join back to text\n"
   ]
  },
  {
   "cell_type": "code",
   "execution_count": 29,
   "id": "24c9f2d6-716c-454f-aab7-12015f1616d5",
   "metadata": {},
   "outputs": [
    {
     "name": "stdout",
     "output_type": "stream",
     "text": [
      "accident Santa Clara, CA Accident center lane blocked in #SantaClara on US-101 NB before Great America Pkwy #BayArea #Traffic http://t.co/pmlOhZuRWR\n",
      "[('accident', 'n'), ('santa', 'n'), ('clara', 'n'), ('ca', 'n'), ('accident', 'n'), ('center', 'n'), ('lane', 'n'), ('blocked', 'v'), ('santaclara', 'n'), ('us101', 'n'), ('nb', 'n'), ('great', 'a'), ('america', 'n'), ('pkwy', 'n'), ('bayarea', 'n'), ('traffic', 'n')]\n",
      "['accident', 'santa', 'clara', 'ca', 'accident', 'center', 'lane', 'blocked', 'santaclara', 'us101', 'nb', 'great', 'america', 'pkwy', 'bayarea', 'traffic']\n",
      "['accident', 'santa', 'clara', 'ca', 'accident', 'center', 'lane', 'block', 'santaclara', 'us101', 'nb', 'great', 'america', 'pkwy', 'bayarea', 'traffic']\n"
     ]
    }
   ],
   "source": [
    "\n",
    "\n",
    "print(df_train[\"text\"][31])\n",
    "print(df_train[\"combined_postag_wnet\"][31])\n",
    "print(df_train[\"lemmatize_word_wo_pos\"][31])\n",
    "print(df_train[\"lemmatize_word_w_pos\"][31])\n",
    "\n"
   ]
  },
  {
   "cell_type": "code",
   "execution_count": null,
   "id": "f31c1f05-047f-4053-80d4-d32ade00dcbd",
   "metadata": {},
   "outputs": [],
   "source": []
  },
  {
   "cell_type": "code",
   "execution_count": 30,
   "id": "2519fe9e-be8a-41c0-8145-f8ca07405eba",
   "metadata": {},
   "outputs": [],
   "source": [
    "from sklearn.feature_extraction.text import CountVectorizer\n",
    "from sklearn.feature_extraction.text import TfidfVectorizer\n",
    "\n",
    "def cv(train , test,  ngram = 1, MAX_NB_WORDS = 75000):\n",
    "    count_vectorizer = CountVectorizer(ngram_range = (ngram, ngram), max_features = MAX_NB_WORDS)\n",
    "    train_vectorize = count_vectorizer.fit_transform(train).toarray()\n",
    "    test_vectorize =  count_vectorizer.transform(test).toarray()\n",
    "#    print(\"count vectorize with\", str(np.array(train_vectorize).shape[1]), \"features\")\n",
    "#    print(\"count vectorize with\", str(np.array(test_vectorize).shape[1]), \"features\")\n",
    "    \n",
    "    return train_vectorize , test_vectorize , count_vectorizer\n",
    "\n",
    "def tf(train , test):\n",
    "    tf_vectorizer = TfidfVectorizer()\n",
    "    train_vectorize = tf_vectorizer.fit_transform(train).toarray()\n",
    "    test_vectorize = tf_vectorizer.transform(test).toarray()\n",
    "    columns = tf_vectorizer.get_feature_names_out()\n",
    "    return train_vectorize , test_vectorize , tf_vectorizer\n"
   ]
  },
  {
   "cell_type": "code",
   "execution_count": 31,
   "id": "3b928de5-5968-4ce8-bd3a-6cc1419ff467",
   "metadata": {},
   "outputs": [
    {
     "name": "stdout",
     "output_type": "stream",
     "text": [
      "clean_text  <class 'str'>\n",
      "clean_text  <class 'str'>\n",
      "tokenized  <class 'str'>\n",
      "tokenized  <class 'list'>\n",
      "stopwords_removed  <class 'str'>\n",
      "stopwords_removed  <class 'list'>\n",
      "porter_stemmer  <class 'str'>\n",
      "porter_stemmer  <class 'list'>\n",
      "lancaster_stemmer  <class 'str'>\n",
      "lancaster_stemmer  <class 'list'>\n",
      "snowball_stemmer  <class 'str'>\n",
      "snowball_stemmer  <class 'list'>\n",
      "combined_postag_wnet  <class 'tuple'>\n",
      "combined_postag_wnet  <class 'list'>\n",
      "lemmatize_word_wo_pos  <class 'str'>\n",
      "lemmatize_word_wo_pos  <class 'list'>\n",
      "lemmatize_word_w_pos  <class 'str'>\n",
      "lemmatize_word_w_pos  <class 'list'>\n",
      "lemmatize_text  <class 'str'>\n",
      "lemmatize_text  <class 'str'>\n"
     ]
    }
   ],
   "source": [
    "for col in df_train.columns[5:]:\n",
    "    print(col + \" \" , type(df_train[col][0][0]))\n",
    "    print(col + \" \" , type(df_train[col][0]))\n",
    "    "
   ]
  },
  {
   "cell_type": "code",
   "execution_count": 32,
   "id": "a7e61323-8ab8-41f3-b9be-d8bbe7bdad2b",
   "metadata": {},
   "outputs": [],
   "source": [
    "# conditions we need to ignore for now \n",
    "# 1 - type(df_train[col][0][0] == \"tuple\" "
   ]
  },
  {
   "cell_type": "code",
   "execution_count": null,
   "id": "71b2c2ce-d9c0-43e4-b5cd-910ae2395e77",
   "metadata": {},
   "outputs": [],
   "source": []
  },
  {
   "cell_type": "code",
   "execution_count": 33,
   "id": "9471b609-c8ab-4122-827f-b9bf438e1341",
   "metadata": {},
   "outputs": [],
   "source": [
    "# ok after we look to the target value counts \n",
    "# Note : the target in test dataframe has only 1 unique value and its : 0\n",
    "# there is no ones \n",
    "\n",
    "# we decided to concate the test dataframe and the train dataframe \n",
    "# to create one dataframe and then create our own test by split them \n",
    "\n",
    "df = pd.concat([df_train, df_test], axis=0)"
   ]
  },
  {
   "cell_type": "code",
   "execution_count": null,
   "id": "2f289f6a-32ea-40fa-b6d5-0578d3bb8be4",
   "metadata": {},
   "outputs": [],
   "source": []
  },
  {
   "cell_type": "code",
   "execution_count": 34,
   "id": "523bceea-f22a-4fdb-aa4f-416d39d145cb",
   "metadata": {},
   "outputs": [],
   "source": [
    "from sklearn.ensemble import RandomForestClassifier\n",
    "from sklearn.linear_model import LogisticRegression\n",
    "from sklearn.naive_bayes import GaussianNB\n",
    "from sklearn.neighbors import KNeighborsClassifier\n",
    "from sklearn.tree import DecisionTreeClassifier\n",
    "from sklearn.metrics import accuracy_score\n",
    "\n",
    "from imblearn.over_sampling import SMOTE\n",
    "from sklearn.model_selection import train_test_split\n",
    "\n",
    "\n",
    "from sklearn.metrics import confusion_matrix,classification_report\n",
    "import seaborn as sns\n",
    "import matplotlib.pyplot as plt "
   ]
  },
  {
   "cell_type": "code",
   "execution_count": 35,
   "id": "c9d55418-c254-4850-b4ca-4ffc0419ec93",
   "metadata": {},
   "outputs": [],
   "source": [
    "y_train = df[\"target\"] \n",
    "y_test = df_test[\"target\"]"
   ]
  },
  {
   "cell_type": "code",
   "execution_count": 37,
   "id": "9e303c0c-e2a3-482c-993d-dd6ea01017ed",
   "metadata": {},
   "outputs": [],
   "source": [
    "# Create a dictionary of lists for each model\n",
    "model_accuracies = {\n",
    "    \"Random Forest\": [],\n",
    "    \"Logistic Regression\": [],\n",
    "    \"Gaussian NB\": [],\n",
    "    \"KNeighbors Classifier\": [],\n",
    "    \"Decision Tree Classifier\": []\n",
    "}\n",
    "\n",
    "y = df[\"target\"] \n",
    "\n",
    "for col in df_train.columns[5:]:\n",
    "    # We will ignore that column for now\n",
    "    if type(df_train[col][0][0]) == tuple:\n",
    "        continue\n",
    "\n",
    "    # Join words\n",
    "    if type(df_train[col][0]) == list:\n",
    "        X = df[col].apply(lambda x: \" \".join(x))\n",
    "    else:\n",
    "        X = df[col]\n",
    "\n",
    "    X_train, X_test, y_train, y_test = train_test_split(X, y, test_size=0.2)\n",
    "\n",
    "    # Convert them to numbers using tf \n",
    "    X_train, X_test, vc_1gram = tf(X_train, X_test)\n",
    "\n",
    "\n",
    "    X_train, y_train = SMOTE().fit_resample(X_train, y_train) \n",
    "    \n",
    "    \n",
    "    # Random Forest\n",
    "    RandomForest_model = RandomForestClassifier()\n",
    "    RandomForest_model.fit(X_train, y_train)\n",
    "    y_pred_rf = RandomForest_model.predict(X_test)\n",
    "    RandomForest_model_accuracy = accuracy_score(y_test, y_pred_rf)\n",
    "    model_accuracies[\"Random Forest\"].append(RandomForest_model_accuracy)\n",
    "\n",
    "    # Logistic Regression\n",
    "    LogisticRegression_model = LogisticRegression()\n",
    "    LogisticRegression_model.fit(X_train, y_train)\n",
    "    y_pred_lg = LogisticRegression_model.predict(X_test)\n",
    "    LogisticRegression_model_accuracy = accuracy_score(y_test, y_pred_lg)\n",
    "    model_accuracies[\"Logistic Regression\"].append(LogisticRegression_model_accuracy)\n",
    "\n",
    "    # Gaussian NB\n",
    "    GaussianNB_model = GaussianNB()\n",
    "    GaussianNB_model.fit(X_train, y_train)\n",
    "    y_pred_gnb = GaussianNB_model.predict(X_test)\n",
    "    GaussianNB_model_accuracy = accuracy_score(y_test, y_pred_gnb)\n",
    "    model_accuracies[\"Gaussian NB\"].append(GaussianNB_model_accuracy)\n",
    "\n",
    "    # KNeighbors Classifier\n",
    "    KNeighborsClassifier_model = RandomForestClassifier()\n",
    "    KNeighborsClassifier_model.fit(X_train, y_train)\n",
    "    y_pred_knn = KNeighborsClassifier_model.predict(X_test)\n",
    "    KNeighborsClassifier_model_accuracy = accuracy_score(y_test, y_pred_knn)\n",
    "    model_accuracies[\"KNeighbors Classifier\"].append(KNeighborsClassifier_model_accuracy)\n",
    "\n",
    "    # Decision Tree Classifier\n",
    "    DecisionTreeClassifier_model = DecisionTreeClassifier()\n",
    "    DecisionTreeClassifier_model.fit(X_train, y_train)\n",
    "    y_pred_dt = DecisionTreeClassifier_model.predict(X_test)\n",
    "    DecisionTreeClassifier_model_accuracy = accuracy_score(y_test, y_pred_dt)\n",
    "    model_accuracies[\"Decision Tree Classifier\"].append(DecisionTreeClassifier_model_accuracy)\n",
    "\n",
    "# Convert the dictionary to a pandas DataFrame\n",
    "model_accuracies_df = pd.DataFrame(model_accuracies)\n",
    "\n",
    "# Transpose the DataFrame\n",
    "model_accuracies_df = model_accuracies_df.T\n",
    "\n",
    "# Rename the columns\n",
    "model_accuracies_df.columns = df_train.columns[5:-4].tolist() + df_train.columns[-3:].tolist()"
   ]
  },
  {
   "cell_type": "code",
   "execution_count": 38,
   "id": "8bbb2dae-74ba-495c-a9f1-34d1eb44753e",
   "metadata": {},
   "outputs": [],
   "source": [
    "# Create a dictionary of lists for each model\n",
    "model_accuracies = {\n",
    "    \"Random Forest\": [],\n",
    "    \"Logistic Regression\": [],\n",
    "    \"Gaussian NB\": [],\n",
    "    \"KNeighbors Classifier\": [],\n",
    "    \"Decision Tree Classifier\": []\n",
    "}\n",
    "\n",
    "# set y train and y_test  \n",
    "y_train = df_train[\"target\"] \n",
    "y_test = df_test[\"target\"]\n",
    "\n",
    "for col in df_train.columns[5:]:\n",
    "    # we will ignore that column for now \n",
    "    if type(df_train[col][0][0]) == tuple:\n",
    "        continue\n",
    "        \n",
    "    # join words   \n",
    "    if type(df_train[col][0]) == list:\n",
    "        train = df_train[col].apply(lambda x : \" \".join(x))\n",
    "        test = df_test[col].apply(lambda x : \" \".join(x))\n",
    "    else:\n",
    "        train = df_train[col]\n",
    "        test = df_test[col]\n",
    "    \n",
    "    \n",
    "    # let convert them to numbers using cv \n",
    "    X_train, X_test ,  vc_1gram = cv(train ,test , 1)\n",
    "  \n",
    "    # Random Forest\n",
    "    RandomForest_model = RandomForestClassifier()\n",
    "    RandomForest_model.fit(X_train, y_train)\n",
    "    y_pred_rf = RandomForest_model.predict(X_test)\n",
    "    RandomForest_model_accuracy = accuracy_score(y_test, y_pred_rf)\n",
    "    model_accuracies[\"Random Forest\"].append(RandomForest_model_accuracy)\n",
    "\n",
    "    # Logistic Regression\n",
    "    LogisticRegression_model = LogisticRegression()\n",
    "    LogisticRegression_model.fit(X_train, y_train)\n",
    "    y_pred_lg = LogisticRegression_model.predict(X_test)\n",
    "    LogisticRegression_model_accuracy = accuracy_score(y_test, y_pred_lg)\n",
    "    model_accuracies[\"Logistic Regression\"].append(LogisticRegression_model_accuracy)\n",
    "\n",
    "    # Gaussian NB\n",
    "    GaussianNB_model = GaussianNB()\n",
    "    GaussianNB_model.fit(X_train, y_train)\n",
    "    y_pred_gnb = GaussianNB_model.predict(X_test)\n",
    "    GaussianNB_model_accuracy = accuracy_score(y_test, y_pred_gnb)\n",
    "    model_accuracies[\"Gaussian NB\"].append(GaussianNB_model_accuracy)\n",
    "\n",
    "    # KNeighbors Classifier\n",
    "    KNeighborsClassifier_model = RandomForestClassifier()\n",
    "    KNeighborsClassifier_model.fit(X_train, y_train)\n",
    "    y_pred_knn = KNeighborsClassifier_model.predict(X_test)\n",
    "    KNeighborsClassifier_model_accuracy = accuracy_score(y_test, y_pred_knn)\n",
    "    model_accuracies[\"KNeighbors Classifier\"].append(KNeighborsClassifier_model_accuracy)\n",
    "\n",
    "    # Decision Tree Classifier\n",
    "    DecisionTreeClassifier_model = DecisionTreeClassifier()\n",
    "    DecisionTreeClassifier_model.fit(X_train, y_train)\n",
    "    y_pred_dt = DecisionTreeClassifier_model.predict(X_test)\n",
    "    DecisionTreeClassifier_model_accuracy = accuracy_score(y_test, y_pred_dt)\n",
    "    model_accuracies[\"Decision Tree Classifier\"].append(DecisionTreeClassifier_model_accuracy)\n",
    "\n",
    "# Convert the dictionary to a pandas DataFrame\n",
    "model_accuracies_df_train_and_test = pd.DataFrame(model_accuracies)\n",
    "\n",
    "# Transpose the DataFrame\n",
    "model_accuracies_df_train_and_test = model_accuracies_df_train_and_test.T\n",
    "\n",
    "# Rename the columns\n",
    "model_accuracies_df_train_and_test.columns = df_train.columns[5:-4].tolist() + df_train.columns[-3:].tolist()"
   ]
  },
  {
   "cell_type": "code",
   "execution_count": 39,
   "id": "075499fd-cfeb-4cba-af96-f7feed4b7179",
   "metadata": {},
   "outputs": [
    {
     "data": {
      "text/html": [
       "<div>\n",
       "<style scoped>\n",
       "    .dataframe tbody tr th:only-of-type {\n",
       "        vertical-align: middle;\n",
       "    }\n",
       "\n",
       "    .dataframe tbody tr th {\n",
       "        vertical-align: top;\n",
       "    }\n",
       "\n",
       "    .dataframe thead th {\n",
       "        text-align: right;\n",
       "    }\n",
       "</style>\n",
       "<table border=\"1\" class=\"dataframe\">\n",
       "  <thead>\n",
       "    <tr style=\"text-align: right;\">\n",
       "      <th></th>\n",
       "      <th>clean_text</th>\n",
       "      <th>tokenized</th>\n",
       "      <th>stopwords_removed</th>\n",
       "      <th>porter_stemmer</th>\n",
       "      <th>lancaster_stemmer</th>\n",
       "      <th>snowball_stemmer</th>\n",
       "      <th>lemmatize_word_wo_pos</th>\n",
       "      <th>lemmatize_word_w_pos</th>\n",
       "      <th>lemmatize_text</th>\n",
       "    </tr>\n",
       "  </thead>\n",
       "  <tbody>\n",
       "    <tr>\n",
       "      <th>Random Forest</th>\n",
       "      <td>0.735497</td>\n",
       "      <td>0.746547</td>\n",
       "      <td>0.747238</td>\n",
       "      <td>0.743785</td>\n",
       "      <td>0.745856</td>\n",
       "      <td>0.729972</td>\n",
       "      <td>0.763122</td>\n",
       "      <td>0.738260</td>\n",
       "      <td>0.743094</td>\n",
       "    </tr>\n",
       "    <tr>\n",
       "      <th>Logistic Regression</th>\n",
       "      <td>0.742403</td>\n",
       "      <td>0.738950</td>\n",
       "      <td>0.743094</td>\n",
       "      <td>0.746547</td>\n",
       "      <td>0.745166</td>\n",
       "      <td>0.721685</td>\n",
       "      <td>0.754834</td>\n",
       "      <td>0.742403</td>\n",
       "      <td>0.725138</td>\n",
       "    </tr>\n",
       "    <tr>\n",
       "      <th>Gaussian NB</th>\n",
       "      <td>0.611878</td>\n",
       "      <td>0.619475</td>\n",
       "      <td>0.607044</td>\n",
       "      <td>0.610497</td>\n",
       "      <td>0.605663</td>\n",
       "      <td>0.598757</td>\n",
       "      <td>0.607735</td>\n",
       "      <td>0.607735</td>\n",
       "      <td>0.601519</td>\n",
       "    </tr>\n",
       "    <tr>\n",
       "      <th>KNeighbors Classifier</th>\n",
       "      <td>0.735497</td>\n",
       "      <td>0.749309</td>\n",
       "      <td>0.743785</td>\n",
       "      <td>0.745166</td>\n",
       "      <td>0.741022</td>\n",
       "      <td>0.739641</td>\n",
       "      <td>0.762431</td>\n",
       "      <td>0.736878</td>\n",
       "      <td>0.747928</td>\n",
       "    </tr>\n",
       "    <tr>\n",
       "      <th>Decision Tree Classifier</th>\n",
       "      <td>0.671271</td>\n",
       "      <td>0.683702</td>\n",
       "      <td>0.688536</td>\n",
       "      <td>0.690608</td>\n",
       "      <td>0.680249</td>\n",
       "      <td>0.678177</td>\n",
       "      <td>0.703039</td>\n",
       "      <td>0.680249</td>\n",
       "      <td>0.685083</td>\n",
       "    </tr>\n",
       "  </tbody>\n",
       "</table>\n",
       "</div>"
      ],
      "text/plain": [
       "                          clean_text  tokenized  stopwords_removed  \\\n",
       "Random Forest               0.735497   0.746547           0.747238   \n",
       "Logistic Regression         0.742403   0.738950           0.743094   \n",
       "Gaussian NB                 0.611878   0.619475           0.607044   \n",
       "KNeighbors Classifier       0.735497   0.749309           0.743785   \n",
       "Decision Tree Classifier    0.671271   0.683702           0.688536   \n",
       "\n",
       "                          porter_stemmer  lancaster_stemmer  snowball_stemmer  \\\n",
       "Random Forest                   0.743785           0.745856          0.729972   \n",
       "Logistic Regression             0.746547           0.745166          0.721685   \n",
       "Gaussian NB                     0.610497           0.605663          0.598757   \n",
       "KNeighbors Classifier           0.745166           0.741022          0.739641   \n",
       "Decision Tree Classifier        0.690608           0.680249          0.678177   \n",
       "\n",
       "                          lemmatize_word_wo_pos  lemmatize_word_w_pos  \\\n",
       "Random Forest                          0.763122              0.738260   \n",
       "Logistic Regression                    0.754834              0.742403   \n",
       "Gaussian NB                            0.607735              0.607735   \n",
       "KNeighbors Classifier                  0.762431              0.736878   \n",
       "Decision Tree Classifier               0.703039              0.680249   \n",
       "\n",
       "                          lemmatize_text  \n",
       "Random Forest                   0.743094  \n",
       "Logistic Regression             0.725138  \n",
       "Gaussian NB                     0.601519  \n",
       "KNeighbors Classifier           0.747928  \n",
       "Decision Tree Classifier        0.685083  "
      ]
     },
     "execution_count": 39,
     "metadata": {},
     "output_type": "execute_result"
    }
   ],
   "source": [
    "model_accuracies_df"
   ]
  },
  {
   "cell_type": "code",
   "execution_count": 40,
   "id": "8a09297f-4eea-4865-ad7b-da158ea88328",
   "metadata": {
    "scrolled": true
   },
   "outputs": [
    {
     "data": {
      "text/html": [
       "<div>\n",
       "<style scoped>\n",
       "    .dataframe tbody tr th:only-of-type {\n",
       "        vertical-align: middle;\n",
       "    }\n",
       "\n",
       "    .dataframe tbody tr th {\n",
       "        vertical-align: top;\n",
       "    }\n",
       "\n",
       "    .dataframe thead th {\n",
       "        text-align: right;\n",
       "    }\n",
       "</style>\n",
       "<table border=\"1\" class=\"dataframe\">\n",
       "  <thead>\n",
       "    <tr style=\"text-align: right;\">\n",
       "      <th></th>\n",
       "      <th>clean_text</th>\n",
       "      <th>tokenized</th>\n",
       "      <th>stopwords_removed</th>\n",
       "      <th>porter_stemmer</th>\n",
       "      <th>lancaster_stemmer</th>\n",
       "      <th>snowball_stemmer</th>\n",
       "      <th>lemmatize_word_wo_pos</th>\n",
       "      <th>lemmatize_word_w_pos</th>\n",
       "      <th>lemmatize_text</th>\n",
       "    </tr>\n",
       "  </thead>\n",
       "  <tbody>\n",
       "    <tr>\n",
       "      <th>Random Forest</th>\n",
       "      <td>0.708990</td>\n",
       "      <td>0.706673</td>\n",
       "      <td>0.668211</td>\n",
       "      <td>0.650139</td>\n",
       "      <td>0.645505</td>\n",
       "      <td>0.650139</td>\n",
       "      <td>0.665894</td>\n",
       "      <td>0.664041</td>\n",
       "      <td>0.669138</td>\n",
       "    </tr>\n",
       "    <tr>\n",
       "      <th>Logistic Regression</th>\n",
       "      <td>0.613994</td>\n",
       "      <td>0.613068</td>\n",
       "      <td>0.631140</td>\n",
       "      <td>0.622799</td>\n",
       "      <td>0.621872</td>\n",
       "      <td>0.620482</td>\n",
       "      <td>0.626506</td>\n",
       "      <td>0.626043</td>\n",
       "      <td>0.626043</td>\n",
       "    </tr>\n",
       "    <tr>\n",
       "      <th>Gaussian NB</th>\n",
       "      <td>0.409639</td>\n",
       "      <td>0.409639</td>\n",
       "      <td>0.409639</td>\n",
       "      <td>0.391566</td>\n",
       "      <td>0.365153</td>\n",
       "      <td>0.389713</td>\n",
       "      <td>0.399444</td>\n",
       "      <td>0.388323</td>\n",
       "      <td>0.388323</td>\n",
       "    </tr>\n",
       "    <tr>\n",
       "      <th>KNeighbors Classifier</th>\n",
       "      <td>0.705746</td>\n",
       "      <td>0.709453</td>\n",
       "      <td>0.671918</td>\n",
       "      <td>0.654773</td>\n",
       "      <td>0.645968</td>\n",
       "      <td>0.662651</td>\n",
       "      <td>0.670065</td>\n",
       "      <td>0.667748</td>\n",
       "      <td>0.670065</td>\n",
       "    </tr>\n",
       "    <tr>\n",
       "      <th>Decision Tree Classifier</th>\n",
       "      <td>0.591288</td>\n",
       "      <td>0.598239</td>\n",
       "      <td>0.582947</td>\n",
       "      <td>0.581094</td>\n",
       "      <td>0.576923</td>\n",
       "      <td>0.591288</td>\n",
       "      <td>0.607044</td>\n",
       "      <td>0.587118</td>\n",
       "      <td>0.590361</td>\n",
       "    </tr>\n",
       "  </tbody>\n",
       "</table>\n",
       "</div>"
      ],
      "text/plain": [
       "                          clean_text  tokenized  stopwords_removed  \\\n",
       "Random Forest               0.708990   0.706673           0.668211   \n",
       "Logistic Regression         0.613994   0.613068           0.631140   \n",
       "Gaussian NB                 0.409639   0.409639           0.409639   \n",
       "KNeighbors Classifier       0.705746   0.709453           0.671918   \n",
       "Decision Tree Classifier    0.591288   0.598239           0.582947   \n",
       "\n",
       "                          porter_stemmer  lancaster_stemmer  snowball_stemmer  \\\n",
       "Random Forest                   0.650139           0.645505          0.650139   \n",
       "Logistic Regression             0.622799           0.621872          0.620482   \n",
       "Gaussian NB                     0.391566           0.365153          0.389713   \n",
       "KNeighbors Classifier           0.654773           0.645968          0.662651   \n",
       "Decision Tree Classifier        0.581094           0.576923          0.591288   \n",
       "\n",
       "                          lemmatize_word_wo_pos  lemmatize_word_w_pos  \\\n",
       "Random Forest                          0.665894              0.664041   \n",
       "Logistic Regression                    0.626506              0.626043   \n",
       "Gaussian NB                            0.399444              0.388323   \n",
       "KNeighbors Classifier                  0.670065              0.667748   \n",
       "Decision Tree Classifier               0.607044              0.587118   \n",
       "\n",
       "                          lemmatize_text  \n",
       "Random Forest                   0.669138  \n",
       "Logistic Regression             0.626043  \n",
       "Gaussian NB                     0.388323  \n",
       "KNeighbors Classifier           0.670065  \n",
       "Decision Tree Classifier        0.590361  "
      ]
     },
     "execution_count": 40,
     "metadata": {},
     "output_type": "execute_result"
    }
   ],
   "source": [
    "model_accuracies_df_train_and_test"
   ]
  },
  {
   "cell_type": "markdown",
   "id": "0f73b8a6-1e1e-42fe-bb4f-223cc6ef2f35",
   "metadata": {},
   "source": [
    "* so as we see in `model_accuracies_df` random forest got highest accuracy in `lemmatize_word_wo_pos` column\n",
    "*  in `model_accuracies_df_train_and_test` knn got the highest in `clean text`\n",
    "*  i should try them with `cv` and `tf` for each one but its take a long time so we will ignore it "
   ]
  },
  {
   "cell_type": "code",
   "execution_count": 45,
   "id": "c6a5053a-a7e6-4b9d-9b09-74806e8f538e",
   "metadata": {},
   "outputs": [
    {
     "name": "stdout",
     "output_type": "stream",
     "text": [
      "0.734251968503937\n"
     ]
    },
    {
     "data": {
      "image/png": "[encoded data removed]",
      "text/plain": [
       "<Figure size 640x480 with 2 Axes>"
      ]
     },
     "metadata": {},
     "output_type": "display_data"
    }
   ],
   "source": [
    "X = df[\"lemmatize_word_wo_pos\"].apply(lambda x : \" \".join(x))\n",
    "X_train, X_test, y_train, y_test = train_test_split(X, y, test_size=0.2)\n",
    "\n",
    "# Convert them to numbers using tf \n",
    "X_train, X_test, vc_1gram = tf(X_train, X_test)\n",
    "\n",
    "\n",
    "X_train, y_train = SMOTE().fit_resample(X_train, y_train) \n",
    "X_test, y_test = SMOTE().fit_resample(X_test, y_test) \n",
    "\n",
    "# Random Forest\n",
    "RandomForest_model = RandomForestClassifier()\n",
    "RandomForest_model.fit(X_train, y_train)\n",
    "y_pred_rf = RandomForest_model.predict(X_test)\n",
    "RandomForest_model_accuracy = accuracy_score(y_test, y_pred_rf)\n",
    "\n",
    "print(RandomForest_model_accuracy)\n",
    "cm = confusion_matrix(y_test,y_pred_rf)\n",
    "\n",
    "sns.heatmap(cm, annot=True, fmt='g', xticklabels=['0','1'], yticklabels=['0','1']) \n",
    "plt.ylabel('Actual', fontsize=13) \n",
    "plt.title('Confusion Matrix', fontsize=17, pad=20) \n",
    "plt.gca().xaxis.set_label_position('top')\n",
    "plt.xlabel('Prediction', fontsize=13) \n",
    "plt.gca().xaxis.tick_top() \n",
    "plt.gca().figure.subplots_adjust(bottom=0.2)\n",
    "plt.gca().figure.text(0.5, 0.05, 'Prediction', ha='center', fontsize=13)\n",
    "plt.show()"
   ]
  },
  {
   "cell_type": "code",
   "execution_count": 46,
   "id": "c1402658-0e40-47b4-9afa-ef61d5c557c5",
   "metadata": {},
   "outputs": [
    {
     "name": "stdout",
     "output_type": "stream",
     "text": [
      "0.7287128712871287\n"
     ]
    },
    {
     "data": {
      "image/png": "[encoded data removed]",
      "text/plain": [
       "<Figure size 640x480 with 2 Axes>"
      ]
     },
     "metadata": {},
     "output_type": "display_data"
    }
   ],
   "source": [
    "X = df[\"lemmatize_text\"]\n",
    "X_train, X_test, y_train, y_test = train_test_split(X, y, test_size=0.2)\n",
    "\n",
    "# Convert them to numbers using tf \n",
    "X_train, X_test, vc_1gram = tf(X_train, X_test)\n",
    "\n",
    "X_train, y_train = SMOTE().fit_resample(X_train, y_train) \n",
    "X_test, y_test = SMOTE().fit_resample(X_test, y_test) \n",
    "\n",
    "# Random Forest\n",
    "RandomForest_model = RandomForestClassifier()\n",
    "RandomForest_model.fit(X_train, y_train)\n",
    "y_pred_rf = RandomForest_model.predict(X_test)\n",
    "RandomForest_model_accuracy = accuracy_score(y_test, y_pred_rf)\n",
    "\n",
    "print(RandomForest_model_accuracy)\n",
    "cm = confusion_matrix(y_test,y_pred_rf)\n",
    "\n",
    "sns.heatmap(cm, annot=True, fmt='g', xticklabels=['0','1'], yticklabels=['0','1']) \n",
    "plt.ylabel('Actual', fontsize=13) \n",
    "plt.title('Confusion Matrix', fontsize=17, pad=20) \n",
    "plt.gca().xaxis.set_label_position('top')\n",
    "plt.xlabel('Prediction', fontsize=13) \n",
    "plt.gca().xaxis.tick_top() \n",
    "plt.gca().figure.subplots_adjust(bottom=0.2)\n",
    "plt.gca().figure.text(0.5, 0.05, 'Prediction', ha='center', fontsize=13)\n",
    "plt.show()"
   ]
  },
  {
   "cell_type": "markdown",
   "id": "9e5feb4e-eaa0-456b-94e6-d652c3a59789",
   "metadata": {},
   "source": []
  },
  {
   "cell_type": "code",
   "execution_count": null,
   "id": "94374396-df18-4d94-96e7-8edb64a9c738",
   "metadata": {},
   "outputs": [],
   "source": []
  },
  {
   "cell_type": "code",
   "execution_count": null,
   "id": "e63d8b21-e37c-4c53-8825-77934631675f",
   "metadata": {},
   "outputs": [],
   "source": []
  },
  {
   "cell_type": "code",
   "execution_count": null,
   "id": "c57cdd02-6a1a-4efd-8d65-c398ca0fe315",
   "metadata": {},
   "outputs": [],
   "source": [
    "## we should do like that for the column that we ignore it but it takes a long time so we will ignore it \n",
    "## maybe in one day we will do it \n",
    "## TODO\n",
    "# words, pos_tags = zip(*data)\n",
    "# vectorizer = CountVectorizer()\n",
    "# vectorizer.fit(words)\n",
    "# vocab = vectorizer.vocabulary_\n",
    "# word_encodings = [vocab[word] for word in words]\n",
    "# le = LabelEncoder()\n",
    "# le.fit(pos_tags)\n",
    "# pos_encodings = le.transform(pos_tags)\n",
    "# X = list(zip(word_encodings, pos_encodings))\n",
    "# y = [0, 1, 0]\n",
    "\n",
    "# model = LogisticRegression()\n",
    "# model.fit(X, y)\n",
    "\n"
   ]
  },
  {
   "cell_type": "code",
   "execution_count": null,
   "id": "4c2665a1-4e11-46ad-b5ac-c38dcc37a525",
   "metadata": {},
   "outputs": [],
   "source": []
  },
  {
   "cell_type": "code",
   "execution_count": null,
   "id": "7f217861-e063-498e-a085-a42e311ca213",
   "metadata": {},
   "outputs": [],
   "source": []
  },
  {
   "cell_type": "code",
   "execution_count": null,
   "id": "b23581ed-53ad-447a-a9b5-ce0fada27aad",
   "metadata": {},
   "outputs": [],
   "source": []
  },
  {
   "cell_type": "code",
   "execution_count": null,
   "id": "c19e38c9-9160-46c3-a8a2-f15a82418727",
   "metadata": {},
   "outputs": [],
   "source": []
  },
  {
   "cell_type": "code",
   "execution_count": null,
   "id": "f0b826ec-8fb3-474a-a2e9-3d5d75a47d56",
   "metadata": {},
   "outputs": [],
   "source": []
  },
  {
   "cell_type": "code",
   "execution_count": null,
   "id": "be24ef7a-054f-44c3-a806-52708705b473",
   "metadata": {},
   "outputs": [],
   "source": []
  },
  {
   "cell_type": "code",
   "execution_count": null,
   "id": "aaff831d-a146-4edf-8230-625fa76fb198",
   "metadata": {},
   "outputs": [],
   "source": []
  },
  {
   "cell_type": "code",
   "execution_count": null,
   "id": "e6638278-7422-43dc-ae98-0ad08679e6c9",
   "metadata": {},
   "outputs": [],
   "source": []
  },
  {
   "cell_type": "code",
   "execution_count": null,
   "id": "7d8d87e3-9d4b-42b2-aedc-6cfda9daddcb",
   "metadata": {},
   "outputs": [],
   "source": []
  },
  {
   "cell_type": "code",
   "execution_count": null,
   "id": "03995cae-5ece-42f2-b9c0-9f4c7a01f940",
   "metadata": {},
   "outputs": [],
   "source": []
  },
  {
   "cell_type": "code",
   "execution_count": null,
   "id": "7d4b1b0a-686a-4a6c-a632-d4d166a70a5e",
   "metadata": {},
   "outputs": [],
   "source": []
  },
  {
   "cell_type": "code",
   "execution_count": null,
   "id": "b6801a8b-f3d1-4931-af43-4ff9eb6f5f68",
   "metadata": {},
   "outputs": [],
   "source": []
  },
  {
   "cell_type": "code",
   "execution_count": null,
   "id": "2e0cc173-f628-481f-b3f5-08163020235e",
   "metadata": {},
   "outputs": [],
   "source": []
  },
  {
   "cell_type": "code",
   "execution_count": null,
   "id": "07be2629-7c63-44bc-a86e-2961ac609658",
   "metadata": {},
   "outputs": [],
   "source": []
  },
  {
   "cell_type": "code",
   "execution_count": null,
   "id": "9befac8b-b86b-4175-8791-2d4c9907793d",
   "metadata": {},
   "outputs": [],
   "source": []
  },
  {
   "cell_type": "code",
   "execution_count": null,
   "id": "8bdd53a7-d0b4-4f2d-98ad-85e9dc07bd3b",
   "metadata": {},
   "outputs": [],
   "source": []
  }
 ],
 "metadata": {
  "kernelspec": {
   "display_name": "Python 3 (ipykernel)",
   "language": "python",
   "name": "python3"
  },
  "language_info": {
   "codemirror_mode": {
    "name": "ipython",
    "version": 3
   },
   "file_extension": ".py",
   "mimetype": "text/x-python",
   "name": "python",
   "nbconvert_exporter": "python",
   "pygments_lexer": "ipython3",
   "version": "3.11.7"
  }
 },
 "nbformat": 4,
 "nbformat_minor": 5
}
