{
 "cells": [
  {
   "cell_type": "code",
   "execution_count": 1,
   "id": "f3a937c9-c582-44ac-b956-920c8c6100be",
   "metadata": {},
   "outputs": [],
   "source": [
    "import pandas as pd\n",
    "import numpy as np "
   ]
  },
  {
   "cell_type": "markdown",
   "id": "615d62b9-c7c7-4d69-8cdb-08deaea6c189",
   "metadata": {},
   "source": [
    "### load the data"
   ]
  },
  {
   "cell_type": "code",
   "execution_count": 2,
   "id": "018a28e2-f5b9-49a8-be44-bfdf0d5da80b",
   "metadata": {},
   "outputs": [],
   "source": [
    "df_train = pd.read_csv('train.csv')\n",
    "df_test = pd.read_csv('test.csv')\n",
    "df_target = pd.read_csv('sample_submission.csv')"
   ]
  },
  {
   "cell_type": "code",
   "execution_count": 3,
   "id": "2e492ff5-6ff5-4c23-b9c2-46282cbb7f77",
   "metadata": {},
   "outputs": [
    {
     "data": {
      "text/plain": [
       "id             0\n",
       "keyword       61\n",
       "location    2533\n",
       "text           0\n",
       "target         0\n",
       "dtype: int64"
      ]
     },
     "execution_count": 3,
     "metadata": {},
     "output_type": "execute_result"
    }
   ],
   "source": [
    "df_train.isna().sum()\n"
   ]
  },
  {
   "cell_type": "code",
   "execution_count": 4,
   "id": "fbe20439-2d72-4776-ba90-6d84bd23708f",
   "metadata": {},
   "outputs": [
    {
     "data": {
      "text/plain": [
       "id             0\n",
       "keyword       26\n",
       "location    1105\n",
       "text           0\n",
       "dtype: int64"
      ]
     },
     "execution_count": 4,
     "metadata": {},
     "output_type": "execute_result"
    }
   ],
   "source": [
    "df_test.isna().sum()\n"
   ]
  },
  {
   "cell_type": "code",
   "execution_count": 5,
   "id": "1deec38e-f9fa-41d9-9312-3d9c8e221176",
   "metadata": {},
   "outputs": [
    {
     "data": {
      "text/plain": [
       "id        0\n",
       "target    0\n",
       "dtype: int64"
      ]
     },
     "execution_count": 5,
     "metadata": {},
     "output_type": "execute_result"
    }
   ],
   "source": [
    "df_target.isna().sum()\n"
   ]
  },
  {
   "cell_type": "code",
   "execution_count": 6,
   "id": "9f1d6a08-26ea-49e2-8177-995298b28253",
   "metadata": {},
   "outputs": [],
   "source": [
    "df_train.keyword = df_train.keyword.fillna(df_train.keyword.mode()[0])\n",
    "df_test.keyword = df_test.keyword.fillna(df_test.keyword.mode()[0])\n",
    "df_train = df_train.dropna()\n",
    "df_test = df_test.dropna()"
   ]
  },
  {
   "cell_type": "code",
   "execution_count": 7,
   "id": "9eb11aef-f33f-4332-a127-9c985928658b",
   "metadata": {},
   "outputs": [],
   "source": [
    "df_test['text'] = df_test['keyword'] + \" \"+df_test['location'] + \" \"+df_test['text']\n",
    "df_train['text'] = df_train['keyword'] + \" \"+df_train['location'] + \" \"+df_train['text']"
   ]
  },
  {
   "cell_type": "code",
   "execution_count": 8,
   "id": "72ca761a-cc3b-4bb9-8f1f-0f0b8b647631",
   "metadata": {},
   "outputs": [],
   "source": [
    "df_train = df_train.reset_index(drop=True)\n",
    "df_test = df_test.reset_index(drop=True)"
   ]
  },
  {
   "cell_type": "code",
   "execution_count": 9,
   "id": "684a3890-4989-4096-931a-6fdc15ef4baa",
   "metadata": {},
   "outputs": [],
   "source": [
    "df_test = pd.merge(df_test, df_target, on='id')"
   ]
  },
  {
   "cell_type": "markdown",
   "id": "58c9f64c-032d-4a78-8f1c-6e2b9e5b6521",
   "metadata": {},
   "source": [
    "###  Text Clean "
   ]
  },
  {
   "cell_type": "code",
   "execution_count": 13,
   "id": "5f701f4e-691d-4bd4-8266-160701c1de44",
   "metadata": {},
   "outputs": [],
   "source": [
    "# Libraries and packages for text (pre-)processing \n",
    "import string\n",
    "import re\n",
    "import nltk"
   ]
  },
  {
   "cell_type": "code",
   "execution_count": 14,
   "id": "ec8a36e8-6ea9-499b-ad1d-034ff148805a",
   "metadata": {},
   "outputs": [],
   "source": [
    "df_train[\"clean_text\"] = df_train[\"text\"].apply(lambda x: x.lower())\n",
    "df_test[\"clean_text\"] = df_test[\"text\"].apply(lambda x: x.lower())\n"
   ]
  },
  {
   "cell_type": "code",
   "execution_count": null,
   "id": "4c94a001-2825-430e-8750-cd443f631ade",
   "metadata": {},
   "outputs": [],
   "source": []
  },
  {
   "cell_type": "code",
   "execution_count": 12,
   "id": "a62b9ae3-37a9-4c96-b152-0566dab9cf18",
   "metadata": {},
   "outputs": [
    {
     "name": "stdout",
     "output_type": "stream",
     "text": [
      "Collecting contractions\n",
      "  Downloading contractions-0.1.73-py2.py3-none-any.whl.metadata (1.2 kB)\n",
      "Collecting textsearch>=0.0.21 (from contractions)\n",
      "  Downloading textsearch-0.0.24-py2.py3-none-any.whl.metadata (1.2 kB)\n",
      "Collecting anyascii (from textsearch>=0.0.21->contractions)\n",
      "  Downloading anyascii-0.3.2-py3-none-any.whl.metadata (1.5 kB)\n",
      "Collecting pyahocorasick (from textsearch>=0.0.21->contractions)\n",
      "  Downloading pyahocorasick-2.1.0-cp311-cp311-manylinux_2_17_x86_64.manylinux2014_x86_64.whl.metadata (13 kB)\n",
      "Downloading contractions-0.1.73-py2.py3-none-any.whl (8.7 kB)\n",
      "Downloading textsearch-0.0.24-py2.py3-none-any.whl (7.6 kB)\n",
      "Downloading anyascii-0.3.2-py3-none-any.whl (289 kB)\n",
      "\u001b[2K   \u001b[38;2;114;156;31m━━━━━━━━━━━━━━━━━━━━━━━━━━━━━━━━━━━━━━━\u001b[0m \u001b[32m289.9/289.9 kB\u001b[0m \u001b[31m974.0 kB/s\u001b[0m eta \u001b[36m0:00:00\u001b[0m eta \u001b[36m0:00:01\u001b[0m0:01\u001b[0m0:01\u001b[0m\n",
      "\u001b[?25hDownloading pyahocorasick-2.1.0-cp311-cp311-manylinux_2_17_x86_64.manylinux2014_x86_64.whl (118 kB)\n",
      "\u001b[2K   \u001b[38;2;114;156;31m━━━━━━━━━━━━━━━━━━━━━━━━━━━━━━━━━━━━━━━━\u001b[0m \u001b[32m118.3/118.3 kB\u001b[0m \u001b[31m7.1 MB/s\u001b[0m eta \u001b[36m0:00:00\u001b[0m\n",
      "\u001b[?25hInstalling collected packages: pyahocorasick, anyascii, textsearch, contractions\n",
      "Successfully installed anyascii-0.3.2 contractions-0.1.73 pyahocorasick-2.1.0 textsearch-0.0.24\n"
     ]
    }
   ],
   "source": [
    "!pip install contractions"
   ]
  },
  {
   "cell_type": "code",
   "execution_count": 15,
   "id": "f7985810-3f64-4d6c-9431-49061ab658cf",
   "metadata": {},
   "outputs": [],
   "source": [
    "import contractions"
   ]
  },
  {
   "cell_type": "code",
   "execution_count": 16,
   "id": "c270f5c9-5064-426b-83ab-d781c4c05c6c",
   "metadata": {},
   "outputs": [],
   "source": [
    "df_train[\"clean_text\"] = df_train[\"clean_text\"].apply(lambda x: contractions.fix(x))\n",
    "df_test[\"clean_text\"] = df_test[\"clean_text\"].apply(lambda x: contractions.fix(x))\n"
   ]
  },
  {
   "cell_type": "code",
   "execution_count": 17,
   "id": "a4b76406-03fe-4b8f-a47c-68dd60c50b40",
   "metadata": {},
   "outputs": [
    {
     "data": {
      "text/plain": [
       "0       ablaze birmingham @bbcmtd wholesale markets ab...\n",
       "1       ablaze est. september 2012 - bristol we always...\n",
       "2       ablaze africa #africanbaze: breaking news:nige...\n",
       "3       ablaze philadelphia, pa crying out for more! s...\n",
       "4       ablaze london, uk on plus side look at the sky...\n",
       "                              ...                        \n",
       "5075    wrecked tn on the bright side i wrecked http:/...\n",
       "5076    wrecked #newcastleupontyne #uk @widda16 ... he...\n",
       "5077    wrecked vancouver, canada three days off from ...\n",
       "5078    wrecked london  #fx #forex #trading cramer: ig...\n",
       "5079    wrecked lincoln @engineshed great atmosphere a...\n",
       "Name: clean_text, Length: 5080, dtype: object"
      ]
     },
     "execution_count": 17,
     "metadata": {},
     "output_type": "execute_result"
    }
   ],
   "source": [
    "df_train[\"clean_text\"]"
   ]
  },
  {
   "cell_type": "code",
   "execution_count": 18,
   "id": "18bd3d3c-faa4-4fb2-bb18-926359972be5",
   "metadata": {},
   "outputs": [
    {
     "name": "stdout",
     "output_type": "stream",
     "text": [
      "ablaze Est. September 2012 - Bristol We always try to bring the heavy. #metal #RT http://t.co/YAo1e0xngw\n",
      "ablaze est. september 2012 - bristol we always try to bring the heavy. #metal #rt http://t.co/yao1e0xngw\n"
     ]
    }
   ],
   "source": [
    "print(df_train[\"text\"][1])\n",
    "print(df_train[\"clean_text\"][1])"
   ]
  },
  {
   "cell_type": "code",
   "execution_count": 19,
   "id": "984eb2bc-c63a-4461-a312-670c61e04c43",
   "metadata": {},
   "outputs": [
    {
     "name": "stdout",
     "output_type": "stream",
     "text": [
      "ablaze Niall's place | SAF 12 SQUAD | @sunkxssedharry will you wear shorts for race ablaze ?\n",
      "ablaze niall's place | saf 12 squad | @sunkxssedharry will you wear shorts for race ablaze ?\n"
     ]
    }
   ],
   "source": [
    "print(df_test[\"text\"][1])\n",
    "print(df_test[\"clean_text\"][1])"
   ]
  },
  {
   "cell_type": "code",
   "execution_count": 20,
   "id": "089982c4-f8c2-4a3d-9eb2-c5542a93a783",
   "metadata": {},
   "outputs": [],
   "source": [
    "def remove_URL(text):\n",
    "    \"\"\"\n",
    "        Remove URLs from a sample string\n",
    "    \"\"\"\n",
    "    return re.sub(r\"https?://\\S+|www\\.\\S+\", \"\", text)\n",
    "\n",
    "\n",
    "\n",
    "def remove_html(text):\n",
    "    \"\"\"\n",
    "        Remove the html in sample text\n",
    "    \"\"\"\n",
    "    html = re.compile(r\"<.*?>|&([a-z0-9]+|#[0-9]{1,6}|#x[0-9a-f]{1,6});\")\n",
    "    return re.sub(html, \"\", text)\n",
    "\n",
    "\n",
    "def remove_non_ascii(text):\n",
    "    \"\"\"\n",
    "        Remove non-ASCII characters \n",
    "    \"\"\"\n",
    "    return re.sub(r'[^\\x00-\\x7f]',r'', text) # or ''.join([x for x in text if x in string.printable]) \n",
    "\n",
    "\n",
    "def remove_punct(text):\n",
    "    \"\"\"\n",
    "        Remove the punctuation\n",
    "    \"\"\"\n",
    "#     return re.sub(r'[]!\"$%&\\'()*+,./:;=#@?[\\\\^_`{|}~-]+', \"\", text)\n",
    "    return text.translate(str.maketrans('', '', string.punctuation))"
   ]
  },
  {
   "cell_type": "code",
   "execution_count": 21,
   "id": "fede2716-9e61-4f0f-8459-ea203a652789",
   "metadata": {},
   "outputs": [
    {
     "name": "stdout",
     "output_type": "stream",
     "text": [
      "CPU times: user 15 μs, sys: 0 ns, total: 15 μs\n",
      "Wall time: 34.1 μs\n"
     ]
    }
   ],
   "source": [
    "%time\n",
    "# apply Remove URLs\n",
    "df_train[\"clean_text\"] = df_train[\"clean_text\"].apply(lambda x: remove_URL(x))\n",
    "df_test[\"clean_text\"] = df_test[\"clean_text\"].apply(lambda x: remove_URL(x))\n",
    "\n",
    "# apply Remove html\n",
    "df_train[\"clean_text\"] = df_train[\"clean_text\"].apply(lambda x: remove_html(x))\n",
    "df_test[\"clean_text\"] = df_test[\"clean_text\"].apply(lambda x: remove_html(x))\n",
    "\n",
    "# apply Remove non-ASCII\n",
    "df_train[\"clean_text\"] = df_train[\"clean_text\"].apply(lambda x: remove_non_ascii(x))\n",
    "df_test[\"clean_text\"] = df_test[\"clean_text\"].apply(lambda x: remove_non_ascii(x))\n",
    "\n",
    "# apply Remove punctuation\n",
    "df_train[\"clean_text\"] = df_train[\"clean_text\"].apply(lambda x: remove_punct(x))\n",
    "df_test[\"clean_text\"] = df_test[\"clean_text\"].apply(lambda x: remove_punct(x))"
   ]
  },
  {
   "cell_type": "markdown",
   "id": "48758256-51e6-476c-8835-61998363daa6",
   "metadata": {},
   "source": [
    "###  Text Preprocessing "
   ]
  },
  {
   "cell_type": "code",
   "execution_count": 23,
   "id": "0389bbfd-3e54-4981-8d64-48601a97d1b4",
   "metadata": {},
   "outputs": [
    {
     "name": "stdout",
     "output_type": "stream",
     "text": [
      "CPU times: user 5 μs, sys: 1e+03 ns, total: 6 μs\n",
      "Wall time: 13.6 μs\n"
     ]
    },
    {
     "name": "stderr",
     "output_type": "stream",
     "text": [
      "[nltk_data] Downloading package punkt to /home/aboud/nltk_data...\n",
      "[nltk_data]   Unzipping tokenizers/punkt.zip.\n"
     ]
    }
   ],
   "source": [
    "%time\n",
    "# Tokenizing the tweet base texts.\n",
    "from nltk.tokenize import word_tokenize\n",
    "nltk.download('punkt')\n",
    "df_train['tokenized'] = df_train['clean_text'].apply(word_tokenize)\n",
    "df_test['tokenized'] = df_test['clean_text'].apply(word_tokenize)\n"
   ]
  },
  {
   "cell_type": "code",
   "execution_count": 25,
   "id": "7bcf7619-8a35-42b5-bf99-d4befa0c9973",
   "metadata": {
    "scrolled": true
   },
   "outputs": [
    {
     "name": "stderr",
     "output_type": "stream",
     "text": [
      "[nltk_data] Downloading package stopwords to /home/aboud/nltk_data...\n",
      "[nltk_data]   Unzipping corpora/stopwords.zip.\n"
     ]
    }
   ],
   "source": [
    "# Removing stopwords.\n",
    "nltk.download(\"stopwords\")\n",
    "from nltk.corpus import stopwords\n",
    "\n",
    "stop = set(stopwords.words('english'))\n",
    "df_train['stopwords_removed'] = df_train['tokenized'].apply(lambda x: [word for word in x if word not in stop])\n",
    "df_test['stopwords_removed'] = df_test['tokenized'].apply(lambda x: [word for word in x if word not in stop])\n"
   ]
  },
  {
   "cell_type": "code",
   "execution_count": 26,
   "id": "bc72d3b6-fe41-4c51-afdf-891a8a076fbd",
   "metadata": {},
   "outputs": [],
   "source": [
    "from nltk.stem import SnowballStemmer\n",
    "from nltk.stem import LancasterStemmer\n",
    "from nltk.stem import PorterStemmer\n",
    "\n",
    "\n",
    "def porter_stemmer(text):\n",
    "    \"\"\"\n",
    "        Stem words in list of tokenized words with PorterStemmer\n",
    "    \"\"\"\n",
    "    stemmer = nltk.PorterStemmer()\n",
    "    stems = [stemmer.stem(i) for i in text]\n",
    "    return stems\n",
    "\n",
    "def lancaster_stemmer(text):\n",
    "    \"\"\"\n",
    "        Stem words in list of tokenized words with LancasterStemmer\n",
    "    \"\"\"\n",
    "    stemmer = nltk.LancasterStemmer()\n",
    "    stems = [stemmer.stem(i) for i in text]\n",
    "    return stems\n",
    "\n",
    "def snowball_stemmer(text):\n",
    "    \"\"\"\n",
    "        Stem words in list of tokenized words with SnowballStemmer\n",
    "    \"\"\"\n",
    "    stemmer = nltk.SnowballStemmer(\"english\")\n",
    "    stems = [stemmer.stem(i) for i in text]\n",
    "    return stems\n",
    "\n",
    "\n"
   ]
  },
  {
   "cell_type": "code",
   "execution_count": 27,
   "id": "d1c9c336-8d05-4cf8-b1ec-d57dd689a408",
   "metadata": {},
   "outputs": [
    {
     "name": "stdout",
     "output_type": "stream",
     "text": [
      "CPU times: user 14 μs, sys: 4 μs, total: 18 μs\n",
      "Wall time: 33.9 μs\n"
     ]
    }
   ],
   "source": [
    "%time \n",
    "\n",
    "df_train['porter_stemmer'] = df_train['stopwords_removed'].apply(lambda x: porter_stemmer(x))\n",
    "df_test['porter_stemmer'] = df_test['stopwords_removed'].apply(lambda x: porter_stemmer(x))\n",
    "\n",
    "df_train['lancaster_stemmer'] = df_train['stopwords_removed'].apply(lambda x: lancaster_stemmer(x))\n",
    "df_test['lancaster_stemmer'] = df_test['stopwords_removed'].apply(lambda x: lancaster_stemmer(x))\n",
    "\n",
    "df_train['snowball_stemmer'] = df_train['stopwords_removed'].apply(lambda x: snowball_stemmer(x))\n",
    "df_test['snowball_stemmer'] = df_test['stopwords_removed'].apply(lambda x: snowball_stemmer(x))\n"
   ]
  },
  {
   "cell_type": "code",
   "execution_count": 29,
   "id": "7918efd7-cf4a-4faf-83b2-dd0bd60d181b",
   "metadata": {},
   "outputs": [
    {
     "name": "stderr",
     "output_type": "stream",
     "text": [
      "[nltk_data] Downloading package brown to /home/aboud/nltk_data...\n",
      "[nltk_data]   Package brown is already up-to-date!\n",
      "[nltk_data] Downloading package wordnet to /home/aboud/nltk_data...\n"
     ]
    }
   ],
   "source": [
    "# Uncomments if u havent download it yet\n",
    "\n",
    "nltk.download('brown')\n",
    "nltk.download('wordnet')\n",
    "\n",
    "from nltk.corpus import wordnet\n",
    "from nltk.corpus import brown\n",
    "\n",
    "wordnet_map = {\"N\":wordnet.NOUN, \n",
    "               \"V\":wordnet.VERB, \n",
    "               \"J\":wordnet.ADJ, \n",
    "               \"R\":wordnet.ADV\n",
    "              }\n",
    "    \n",
    "train_sents = brown.tagged_sents(categories='news')\n",
    "\n",
    "# fallback for unknown words.\n",
    "t0 = nltk.DefaultTagger('NN')\n",
    "\n",
    "# Creates a unigram tagger\n",
    "t1 = nltk.UnigramTagger(train_sents, backoff=t0)\n",
    "\n",
    "# Creates a bigram tagger\n",
    "t2 = nltk.BigramTagger(train_sents, backoff=t1)\n",
    "\n",
    "def pos_tag_wordnet(text, pos_tag_type=\"pos_tag\"):\n",
    "    \"\"\"\n",
    "        Create pos_tag with wordnet format\n",
    "    \"\"\"\n",
    "    pos_tagged_text = t2.tag(text)\n",
    "    \n",
    "    # map the pos tagging output with wordnet output \n",
    "    pos_tagged_text = [(word, wordnet_map.get(pos_tag[0])) if pos_tag[0] in wordnet_map.keys() else (word, wordnet.NOUN) for (word, pos_tag) in pos_tagged_text ]\n",
    "    return pos_tagged_text"
   ]
  },
  {
   "cell_type": "code",
   "execution_count": 30,
   "id": "826d145c-1d5f-416c-9b2c-c8c5076adbbb",
   "metadata": {},
   "outputs": [
    {
     "name": "stdout",
     "output_type": "stream",
     "text": [
      "CPU times: user 7 μs, sys: 1e+03 ns, total: 8 μs\n",
      "Wall time: 14.5 μs\n"
     ]
    }
   ],
   "source": [
    "%time \n",
    "# Apply part of speech tag without wordnet on train and test data \n",
    "df_train['combined_postag_wnet'] = df_train['stopwords_removed'].apply(lambda x: pos_tag_wordnet(x))\n",
    "df_test['combined_postag_wnet'] = df_test['stopwords_removed'].apply(lambda x: pos_tag_wordnet(x))\n"
   ]
  },
  {
   "cell_type": "code",
   "execution_count": 31,
   "id": "0e3ff3c1-5a9a-4b24-b778-3e7e13a089e2",
   "metadata": {},
   "outputs": [],
   "source": [
    "from nltk.stem import WordNetLemmatizer\n",
    "\n",
    "def lemmatize_word(text):\n",
    "    \"\"\"\n",
    "        Lemmatize the tokenized words\n",
    "    \"\"\"\n",
    "\n",
    "    lemmatizer = WordNetLemmatizer()\n",
    "    lemma = [lemmatizer.lemmatize(word, tag) for word, tag in text]\n",
    "    return lemma"
   ]
  },
  {
   "cell_type": "code",
   "execution_count": 32,
   "id": "bca8fe6b-5001-4847-ac21-7b449938b96d",
   "metadata": {},
   "outputs": [],
   "source": [
    "# Test without POS Tagging\n",
    "lemmatizer = WordNetLemmatizer()\n",
    "\n",
    "df_train['lemmatize_word_wo_pos'] = df_train['stopwords_removed'].apply(lambda x: [lemmatizer.lemmatize(word) for word in x])\n",
    "df_train['lemmatize_word_wo_pos'] = df_train['lemmatize_word_wo_pos'].apply(lambda x: [word for word in x if word not in stop]) # double check to remove stop words\n",
    "\n",
    "df_test['lemmatize_word_wo_pos'] = df_test['stopwords_removed'].apply(lambda x: [lemmatizer.lemmatize(word) for word in x])\n",
    "df_test['lemmatize_word_wo_pos'] = df_test['lemmatize_word_wo_pos'].apply(lambda x: [word for word in x if word not in stop]) # double check to remove stop words\n",
    "\n"
   ]
  },
  {
   "cell_type": "code",
   "execution_count": 33,
   "id": "4ef47491-9ed8-4d3a-8a34-f5c12dd007d9",
   "metadata": {},
   "outputs": [
    {
     "name": "stdout",
     "output_type": "stream",
     "text": [
      "CPU times: user 6 μs, sys: 1e+03 ns, total: 7 μs\n",
      "Wall time: 13.4 μs\n"
     ]
    }
   ],
   "source": [
    "%time \n",
    "\n",
    "# Test with POS Tagging\n",
    "lemmatizer = WordNetLemmatizer()\n",
    "\n",
    "df_train['lemmatize_word_w_pos'] = df_train['combined_postag_wnet'].apply(lambda x: lemmatize_word(x))\n",
    "df_train['lemmatize_word_w_pos'] = df_train['lemmatize_word_w_pos'].apply(lambda x: [word for word in x if word not in stop]) # double check to remove stop words\n",
    "df_train['lemmatize_text'] = [' '.join(map(str, l)) for l in df_train['lemmatize_word_w_pos']] # join back to text\n",
    "\n",
    "\n",
    "df_test['lemmatize_word_w_pos'] = df_test['combined_postag_wnet'].apply(lambda x: lemmatize_word(x))\n",
    "df_test['lemmatize_word_w_pos'] = df_test['lemmatize_word_w_pos'].apply(lambda x: [word for word in x if word not in stop]) # double check to remove stop words\n",
    "df_test['lemmatize_text'] = [' '.join(map(str, l)) for l in df_test['lemmatize_word_w_pos']] # join back to text\n"
   ]
  },
  {
   "cell_type": "code",
   "execution_count": 34,
   "id": "24c9f2d6-716c-454f-aab7-12015f1616d5",
   "metadata": {},
   "outputs": [
    {
     "name": "stdout",
     "output_type": "stream",
     "text": [
      "accident Santa Clara, CA Accident center lane blocked in #SantaClara on US-101 NB before Great America Pkwy #BayArea #Traffic http://t.co/pmlOhZuRWR\n",
      "[('accident', 'n'), ('santa', 'n'), ('clara', 'n'), ('ca', 'n'), ('accident', 'n'), ('center', 'n'), ('lane', 'n'), ('blocked', 'v'), ('santaclara', 'n'), ('us101', 'n'), ('nb', 'n'), ('great', 'a'), ('america', 'n'), ('pkwy', 'n'), ('bayarea', 'n'), ('traffic', 'n')]\n",
      "['accident', 'santa', 'clara', 'ca', 'accident', 'center', 'lane', 'blocked', 'santaclara', 'us101', 'nb', 'great', 'america', 'pkwy', 'bayarea', 'traffic']\n",
      "['accident', 'santa', 'clara', 'ca', 'accident', 'center', 'lane', 'block', 'santaclara', 'us101', 'nb', 'great', 'america', 'pkwy', 'bayarea', 'traffic']\n"
     ]
    }
   ],
   "source": [
    "\n",
    "\n",
    "print(df_train[\"text\"][31])\n",
    "print(df_train[\"combined_postag_wnet\"][31])\n",
    "print(df_train[\"lemmatize_word_wo_pos\"][31])\n",
    "print(df_train[\"lemmatize_word_w_pos\"][31])\n",
    "\n"
   ]
  },
  {
   "cell_type": "code",
   "execution_count": null,
   "id": "f31c1f05-047f-4053-80d4-d32ade00dcbd",
   "metadata": {},
   "outputs": [],
   "source": []
  },
  {
   "cell_type": "code",
   "execution_count": 50,
   "id": "2519fe9e-be8a-41c0-8145-f8ca07405eba",
   "metadata": {},
   "outputs": [],
   "source": [
    "from sklearn.feature_extraction.text import CountVectorizer\n",
    "from sklearn.feature_extraction.text import TfidfVectorizer\n",
    "\n",
    "def cv(train , test,  ngram = 1, MAX_NB_WORDS = 75000):\n",
    "    count_vectorizer = CountVectorizer(ngram_range = (ngram, ngram), max_features = MAX_NB_WORDS)\n",
    "    train_vectorize = count_vectorizer.fit_transform(train).toarray()\n",
    "    test_vectorize =  count_vectorizer.transform(test).toarray()\n",
    "#    print(\"count vectorize with\", str(np.array(train_vectorize).shape[1]), \"features\")\n",
    "#    print(\"count vectorize with\", str(np.array(test_vectorize).shape[1]), \"features\")\n",
    "    \n",
    "    return train_vectorize , test_vectorize , count_vectorizer\n",
    "\n",
    "def tf(train , test):\n",
    "    tf_vectorizer = TfidfVectorizer()\n",
    "    train_vectorize = tf_vectorizer.fit_transform(train).toarray()\n",
    "    test_vectorize = tf_vectorizer.transform(test).toarray()\n",
    "    columns = tf_vectorizer.get_feature_names_out()\n",
    "    return train_vectorize , test_vectorize , tf_vectorizer\n"
   ]
  },
  {
   "cell_type": "code",
   "execution_count": 53,
   "id": "3b928de5-5968-4ce8-bd3a-6cc1419ff467",
   "metadata": {},
   "outputs": [
    {
     "name": "stdout",
     "output_type": "stream",
     "text": [
      "clean_text  <class 'str'>\n",
      "clean_text  <class 'str'>\n",
      "tokenized  <class 'str'>\n",
      "tokenized  <class 'list'>\n",
      "stopwords_removed  <class 'str'>\n",
      "stopwords_removed  <class 'list'>\n",
      "porter_stemmer  <class 'str'>\n",
      "porter_stemmer  <class 'list'>\n",
      "lancaster_stemmer  <class 'str'>\n",
      "lancaster_stemmer  <class 'list'>\n",
      "snowball_stemmer  <class 'str'>\n",
      "snowball_stemmer  <class 'list'>\n",
      "combined_postag_wnet  <class 'tuple'>\n",
      "combined_postag_wnet  <class 'list'>\n",
      "lemmatize_word_wo_pos  <class 'str'>\n",
      "lemmatize_word_wo_pos  <class 'list'>\n",
      "lemmatize_word_w_pos  <class 'str'>\n",
      "lemmatize_word_w_pos  <class 'list'>\n",
      "lemmatize_text  <class 'str'>\n",
      "lemmatize_text  <class 'str'>\n"
     ]
    }
   ],
   "source": [
    "for col in df_train.columns[5:]:\n",
    "    print(col + \" \" , type(df_train[col][0][0]))\n",
    "    print(col + \" \" , type(df_train[col][0]))\n",
    "    "
   ]
  },
  {
   "cell_type": "code",
   "execution_count": null,
   "id": "a7e61323-8ab8-41f3-b9be-d8bbe7bdad2b",
   "metadata": {},
   "outputs": [],
   "source": [
    "# conditions we need to ignore for now \n",
    "# 1 - type(df_train[col][0][0] == \"tuple\" "
   ]
  },
  {
   "cell_type": "code",
   "execution_count": null,
   "id": "71b2c2ce-d9c0-43e4-b5cd-910ae2395e77",
   "metadata": {},
   "outputs": [],
   "source": []
  },
  {
   "cell_type": "code",
   "execution_count": 31,
   "id": "360e491d-0716-4afd-9c05-316e39ba8b3d",
   "metadata": {
    "scrolled": true
   },
   "outputs": [
    {
     "name": "stdout",
     "output_type": "stream",
     "text": [
      "count vectorize with 15761 features\n",
      "count vectorize with 15761 features\n",
      "(5080, 15761)\n",
      "(2158, 15761)\n"
     ]
    }
   ],
   "source": [
    "df_train_em_1gram, df_test_em_1gram ,  vc_1gram = cv(df_train[\"clean_text\"] ,df_test[\"clean_text\"] , 1)\n",
    "# train_df_em_2gram, vc_2gram = cv(train_df_corpus, 2)\n",
    "# train_df_em_3gram, vc_3gram = cv(train_df_corpus, 3)\n",
    "\n",
    "# print(len(train_df_corpus))\n",
    "print(df_train_em_1gram.shape)\n",
    "print(df_test_em_1gram.shape)\n",
    "\n",
    "# print(train_df_em_2gram.shape)\n",
    "# print(train_df_em_3gram.shape)\n"
   ]
  },
  {
   "cell_type": "code",
   "execution_count": 52,
   "id": "9471b609-c8ab-4122-827f-b9bf438e1341",
   "metadata": {},
   "outputs": [],
   "source": [
    "# ok after we look to the target value counts \n",
    "# Note : the target in test dataframe has only 1 unique value and its : 0\n",
    "# there is no ones \n",
    "\n",
    "# we decided to concate the test dataframe and the train dataframe \n",
    "# to create one dataframe and then create our own test by split them \n",
    "\n",
    "df = pd.concat([df_train, df_test], axis=0)"
   ]
  },
  {
   "cell_type": "code",
   "execution_count": null,
   "id": "2f289f6a-32ea-40fa-b6d5-0578d3bb8be4",
   "metadata": {},
   "outputs": [],
   "source": []
  },
  {
   "cell_type": "code",
   "execution_count": 54,
   "id": "523bceea-f22a-4fdb-aa4f-416d39d145cb",
   "metadata": {},
   "outputs": [],
   "source": [
    "from sklearn.ensemble import RandomForestClassifier\n",
    "from sklearn.linear_model import LogisticRegression\n",
    "from sklearn.naive_bayes import GaussianNB\n",
    "from sklearn.neighbors import KNeighborsClassifier\n",
    "from sklearn.tree import DecisionTreeClassifier\n",
    "from sklearn.metrics import accuracy_score\n",
    "\n",
    "from imblearn.over_sampling import SMOTE\n",
    "from sklearn.model_selection import train_test_split\n",
    "\n",
    "\n",
    "from sklearn.metrics import confusion_matrix,classification_report\n",
    "import seaborn as sns\n",
    "import matplotlib.pyplot as plt "
   ]
  },
  {
   "cell_type": "code",
   "execution_count": 39,
   "id": "c9d55418-c254-4850-b4ca-4ffc0419ec93",
   "metadata": {},
   "outputs": [],
   "source": [
    "y_train = df_train[\"target\"] \n",
    "y_test = df_test[\"target\"]"
   ]
  },
  {
   "cell_type": "code",
   "execution_count": 40,
   "id": "a73baf2e-44fb-4edf-808d-1ffdcaf56f2f",
   "metadata": {},
   "outputs": [
    {
     "ename": "NameError",
     "evalue": "name 'df_train_em_1gram' is not defined",
     "output_type": "error",
     "traceback": [
      "\u001b[0;31m---------------------------------------------------------------------------\u001b[0m",
      "\u001b[0;31mNameError\u001b[0m                                 Traceback (most recent call last)",
      "Cell \u001b[0;32mIn[40], line 1\u001b[0m\n\u001b[0;32m----> 1\u001b[0m df_train_em_1gram, y_train \u001b[38;5;241m=\u001b[39m SMOTE()\u001b[38;5;241m.\u001b[39mfit_resample(\u001b[43mdf_train_em_1gram\u001b[49m, y_train) \n",
      "\u001b[0;31mNameError\u001b[0m: name 'df_train_em_1gram' is not defined"
     ]
    }
   ],
   "source": [
    "df_train_em_1gram, y_train = SMOTE().fit_resample(df_train_em_1gram, y_train) "
   ]
  },
  {
   "cell_type": "code",
   "execution_count": null,
   "id": "9e303c0c-e2a3-482c-993d-dd6ea01017ed",
   "metadata": {},
   "outputs": [
    {
     "name": "stdout",
     "output_type": "stream",
     "text": [
      "clean_text :  0.7403314917127072\n",
      "clean_text :  0.744475138121547\n",
      "clean_text :  0.6049723756906077\n",
      "clean_text :  0.7465469613259669\n",
      "clean_text :  0.6857734806629834\n"
     ]
    }
   ],
   "source": [
    "# set y\n",
    "y = df[\"target\"] \n",
    "\n",
    "\n",
    "for col in df_train.columns[5:]:\n",
    "    # we will ignore that column for now \n",
    "    if type(df_train[col][0][0]) == tuple:\n",
    "        continue\n",
    "        \n",
    "    # join words   \n",
    "    if type(df_train[col][0]) == list:\n",
    "        X = df[col].apply(lambda x : \" \".join(x))\n",
    "        \n",
    "        # train = df_train[col].apply(lambda x : \" \".join(x))\n",
    "        # test = df_test[col].apply(lambda x : \" \".join(x))\n",
    "    else:\n",
    "        X = df[col]\n",
    "        \n",
    "        # train = df_train[col]\n",
    "        # test = df_test[col]\n",
    "    \n",
    "\n",
    "\n",
    "    X_train, X_test, y_train, y_test = train_test_split(X, y, test_size=0.2)\n",
    "\n",
    "    # let convert them to numbers using cv \n",
    "    X_train, X_test ,  vc_1gram = cv(X_train ,X_test , 1)\n",
    "\n",
    "    RandomForest_model = RandomForestClassifier()\n",
    "    RandomForest_model.fit(X_train, y_train)\n",
    "    y_pred_rf = RandomForest_model.predict(X_test)\n",
    "    RandomForest_model_accurcy = accuracy_score(y_test, y_pred_rf)\n",
    "    print(col + \" : \" , RandomForest_model_accurcy)\n",
    "    \n",
    "    \n",
    "    LogisticRegression_model = LogisticRegression()\n",
    "    LogisticRegression_model.fit(X_train, y_train)\n",
    "    y_pred_lg = LogisticRegression_model.predict(X_test)\n",
    "    LogisticRegression_model_accurcy = accuracy_score(y_test, y_pred_lg)\n",
    "    print(col + \" : \" , LogisticRegression_model_accurcy)\n",
    "    \n",
    "    \n",
    "    GaussianNB_model = GaussianNB()\n",
    "    GaussianNB_model.fit(X_train, y_train)\n",
    "    y_pred_gnb = GaussianNB_model.predict(X_test)\n",
    "    GaussianNB_model_accurcy = accuracy_score(y_test, y_pred_gnb)\n",
    "    print(col + \" : \" , GaussianNB_model_accurcy)\n",
    "    \n",
    "    \n",
    "    KNeighborsClassifier_model = RandomForestClassifier()\n",
    "    KNeighborsClassifier_model.fit(X_train, y_train)\n",
    "    y_pred_knn = KNeighborsClassifier_model.predict(X_test)\n",
    "    KNeighborsClassifier_model_accurcy = accuracy_score(y_test, y_pred_knn)\n",
    "    print(col + \" : \" , KNeighborsClassifier_model_accurcy)\n",
    "\n",
    "    DecisionTreeClassifier_model = DecisionTreeClassifier()\n",
    "    DecisionTreeClassifier_model.fit(X_train, y_train)\n",
    "    y_pred_dt = DecisionTreeClassifier_model.predict(X_test)\n",
    "    DecisionTreeClassifier_model_accurcy = accuracy_score(y_test, y_pred_dt)\n",
    "    print(col + \" : \" , DecisionTreeClassifier_model_accurcy)\n",
    "\n",
    "\n"
   ]
  },
  {
   "cell_type": "code",
   "execution_count": 51,
   "id": "8bbb2dae-74ba-495c-a9f1-34d1eb44753e",
   "metadata": {},
   "outputs": [
    {
     "name": "stdout",
     "output_type": "stream",
     "text": [
      "clean_text :  0.6886005560704356\n",
      "clean_text :  0.6367006487488415\n",
      "clean_text :  0.4397590361445783\n",
      "clean_text :  0.6853568118628359\n",
      "clean_text :  0.5783132530120482\n",
      "tokenized :  0.6853568118628359\n",
      "tokenized :  0.6353104726598703\n",
      "tokenized :  0.4397590361445783\n",
      "tokenized :  0.6923076923076923\n",
      "tokenized :  0.5713623725671918\n",
      "stopwords_removed :  0.6427247451343837\n",
      "stopwords_removed :  0.6506024096385542\n",
      "stopwords_removed :  0.4397590361445783\n",
      "stopwords_removed :  0.6496756255792401\n",
      "stopwords_removed :  0.5750695088044485\n",
      "porter_stemmer :  0.6376274328081557\n",
      "porter_stemmer :  0.6376274328081557\n",
      "porter_stemmer :  0.4170528266913809\n",
      "porter_stemmer :  0.6431881371640408\n",
      "porter_stemmer :  0.5778498609823911\n",
      "lancaster_stemmer :  0.6302131603336423\n",
      "lancaster_stemmer :  0.6394810009267841\n",
      "lancaster_stemmer :  0.386468952734013\n",
      "lancaster_stemmer :  0.6311399443929564\n",
      "lancaster_stemmer :  0.577386468952734\n",
      "snowball_stemmer :  0.6329935125115848\n",
      "snowball_stemmer :  0.6367006487488415\n",
      "snowball_stemmer :  0.41473586654309547\n",
      "snowball_stemmer :  0.633920296570899\n",
      "snowball_stemmer :  0.5787766450417052\n",
      "lemmatize_word_wo_pos :  0.6464318813716404\n",
      "lemmatize_word_wo_pos :  0.6380908248378128\n",
      "lemmatize_word_wo_pos :  0.4258572752548656\n",
      "lemmatize_word_wo_pos :  0.6533827618164968\n",
      "lemmatize_word_wo_pos :  0.5630213160333642\n",
      "lemmatize_word_w_pos :  0.6492122335495829\n",
      "lemmatize_word_w_pos :  0.6367006487488415\n",
      "lemmatize_word_w_pos :  0.41427247451343835\n",
      "lemmatize_word_w_pos :  0.6478220574606117\n",
      "lemmatize_word_w_pos :  0.5783132530120482\n",
      "lemmatize_text :  0.6552363299351252\n",
      "lemmatize_text :  0.6367006487488415\n",
      "lemmatize_text :  0.41427247451343835\n",
      "lemmatize_text :  0.6561631139944393\n",
      "lemmatize_text :  0.5861909175162188\n"
     ]
    }
   ],
   "source": [
    "# set y train and y_test  \n",
    "y_train = df_train[\"target\"] \n",
    "y_test = df_test[\"target\"]\n",
    "\n",
    "for col in df_train.columns[5:]:\n",
    "    # we will ignore that column for now \n",
    "    if type(df_train[col][0][0]) == tuple:\n",
    "        continue\n",
    "        \n",
    "    # join words   \n",
    "    if type(df_train[col][0]) == list:\n",
    "        train = df_train[col].apply(lambda x : \" \".join(x))\n",
    "        test = df_test[col].apply(lambda x : \" \".join(x))\n",
    "    else:\n",
    "        train = df_train[col]\n",
    "        test = df_test[col]\n",
    "    \n",
    "    \n",
    "    # let convert them to numbers using cv \n",
    "    df_train_em_1gram, df_test_em_1gram ,  vc_1gram = cv(train ,test , 1)\n",
    "\n",
    "    RandomForest_model = RandomForestClassifier()\n",
    "    RandomForest_model.fit(df_train_em_1gram, y_train)\n",
    "    y_pred_rf = RandomForest_model.predict(df_test_em_1gram)\n",
    "    RandomForest_model_accurcy = accuracy_score(y_test, y_pred_rf)\n",
    "    print(col + \" : \" , RandomForest_model_accurcy)\n",
    "    \n",
    "    \n",
    "    LogisticRegression_model = LogisticRegression()\n",
    "    LogisticRegression_model.fit(df_train_em_1gram, y_train)\n",
    "    y_pred_lg = LogisticRegression_model.predict(df_test_em_1gram)\n",
    "    LogisticRegression_model_accurcy = accuracy_score(y_test, y_pred_lg)\n",
    "    print(col + \" : \" , LogisticRegression_model_accurcy)\n",
    "    \n",
    "    \n",
    "    GaussianNB_model = GaussianNB()\n",
    "    GaussianNB_model.fit(df_train_em_1gram, y_train)\n",
    "    y_pred_gnb = GaussianNB_model.predict(df_test_em_1gram)\n",
    "    GaussianNB_model_accurcy = accuracy_score(y_test, y_pred_gnb)\n",
    "    print(col + \" : \" , GaussianNB_model_accurcy)\n",
    "    \n",
    "    \n",
    "    KNeighborsClassifier_model = RandomForestClassifier()\n",
    "    KNeighborsClassifier_model.fit(df_train_em_1gram, y_train)\n",
    "    y_pred_knn = KNeighborsClassifier_model.predict(df_test_em_1gram)\n",
    "    KNeighborsClassifier_model_accurcy = accuracy_score(y_test, y_pred_knn)\n",
    "    print(col + \" : \" , KNeighborsClassifier_model_accurcy)\n",
    "\n",
    "    DecisionTreeClassifier_model = DecisionTreeClassifier()\n",
    "    DecisionTreeClassifier_model.fit(df_train_em_1gram, y_train)\n",
    "    y_pred_dt = DecisionTreeClassifier_model.predict(df_test_em_1gram)\n",
    "    DecisionTreeClassifier_model_accurcy = accuracy_score(y_test, y_pred_dt)\n",
    "    print(col + \" : \" , DecisionTreeClassifier_model_accurcy)\n",
    "\n",
    "\n"
   ]
  },
  {
   "cell_type": "code",
   "execution_count": 35,
   "id": "2a267b7d-cb83-4a3e-bf4f-fc1e859cb8c9",
   "metadata": {},
   "outputs": [],
   "source": [
    "model_RandomForest = RandomForestClassifier()\n",
    "model_RandomForest.fit(df_train_em_1gram, y_train)\n",
    "y_pred_rf = model_RandomForest.predict(df_test_em_1gram)\n",
    "model_RandomForest_accurcy = accuracy_score(y_test, y_pred_rf)"
   ]
  },
  {
   "cell_type": "code",
   "execution_count": 36,
   "id": "5327cf0f-d7ad-4e25-b6d8-e0963f771b20",
   "metadata": {},
   "outputs": [
    {
     "data": {
      "text/plain": [
       "0.5588507877664504"
      ]
     },
     "execution_count": 36,
     "metadata": {},
     "output_type": "execute_result"
    }
   ],
   "source": [
    "model_RandomForest_accurcy"
   ]
  },
  {
   "cell_type": "code",
   "execution_count": 37,
   "id": "c6a5053a-a7e6-4b9d-9b09-74806e8f538e",
   "metadata": {},
   "outputs": [
    {
     "data": {
      "image/png": "[encoded data removed]",
      "text/plain": [
       "<Figure size 640x480 with 2 Axes>"
      ]
     },
     "metadata": {},
     "output_type": "display_data"
    }
   ],
   "source": [
    "cm = confusion_matrix(y_test,y_pred_rf)\n",
    "\n",
    "sns.heatmap(cm, annot=True, fmt='g', xticklabels=['Dog','Not Dog'], yticklabels=['Dog','Not Dog']) \n",
    "plt.ylabel('Actual', fontsize=13) \n",
    "plt.title('Confusion Matrix', fontsize=17, pad=20) \n",
    "plt.gca().xaxis.set_label_position('top')\n",
    "plt.xlabel('Prediction', fontsize=13) \n",
    "plt.gca().xaxis.tick_top() \n",
    "plt.gca().figure.subplots_adjust(bottom=0.2)\n",
    "plt.gca().figure.text(0.5, 0.05, 'Prediction', ha='center', fontsize=13)\n",
    "plt.show()"
   ]
  },
  {
   "cell_type": "code",
   "execution_count": null,
   "id": "c1402658-0e40-47b4-9afa-ef61d5c557c5",
   "metadata": {},
   "outputs": [],
   "source": []
  },
  {
   "cell_type": "code",
   "execution_count": null,
   "id": "6d590bd4-43d2-4291-a3fd-af469760282e",
   "metadata": {},
   "outputs": [],
   "source": []
  },
  {
   "cell_type": "code",
   "execution_count": null,
   "id": "94374396-df18-4d94-96e7-8edb64a9c738",
   "metadata": {},
   "outputs": [],
   "source": []
  },
  {
   "cell_type": "code",
   "execution_count": 38,
   "id": "e63d8b21-e37c-4c53-8825-77934631675f",
   "metadata": {},
   "outputs": [],
   "source": [
    "y = df_train[\"target\"]"
   ]
  },
  {
   "cell_type": "code",
   "execution_count": 39,
   "id": "c57cdd02-6a1a-4efd-8d65-c398ca0fe315",
   "metadata": {},
   "outputs": [
    {
     "name": "stdout",
     "output_type": "stream",
     "text": [
      "[0 1]\n"
     ]
    }
   ],
   "source": [
    "import numpy as np\n",
    "from sklearn.feature_extraction.text import CountVectorizer\n",
    "from sklearn.preprocessing import LabelEncoder\n",
    "from sklearn.linear_model import LogisticRegression\n",
    "# Sample data\n",
    "data = [('aboud', 'N'), ('like', 'adj'), ('footbool', 'N')]\n",
    "\n",
    "# Tokenize the data and create encodings\n",
    "words, pos_tags = zip(*data)\n",
    "vectorizer = CountVectorizer()\n",
    "vectorizer.fit(words)\n",
    "vocab = vectorizer.vocabulary_\n",
    "word_encodings = [vocab[word] for word in words]\n",
    "le = LabelEncoder()\n",
    "le.fit(pos_tags)\n",
    "pos_encodings = le.transform(pos_tags)\n",
    "X = list(zip(word_encodings, pos_encodings))\n",
    "y = [0, 1, 0]  # Assuming you have a target variable\n",
    "\n",
    "# Train a logistic regression model\n",
    "model = LogisticRegression()\n",
    "model.fit(X, y)\n",
    "\n",
    "# Make predictions\n",
    "new_data = [('aboud', 'N'), ('like', 'adj')]\n",
    "new_words, new_pos_tags = zip(*new_data)\n",
    "new_word_encodings = [vocab[word] for word in new_words]\n",
    "new_pos_encodings = le.transform(new_pos_tags)\n",
    "new_X = list(zip(new_word_encodings, new_pos_encodings))\n",
    "predictions = model.predict(new_X)\n",
    "print(predictions)"
   ]
  },
  {
   "cell_type": "code",
   "execution_count": null,
   "id": "4c2665a1-4e11-46ad-b5ac-c38dcc37a525",
   "metadata": {},
   "outputs": [],
   "source": []
  },
  {
   "cell_type": "code",
   "execution_count": 40,
   "id": "7f217861-e063-498e-a085-a42e311ca213",
   "metadata": {},
   "outputs": [
    {
     "ename": "TypeError",
     "evalue": "'int' object is not iterable",
     "output_type": "error",
     "traceback": [
      "\u001b[0;31m---------------------------------------------------------------------------\u001b[0m",
      "\u001b[0;31mTypeError\u001b[0m                                 Traceback (most recent call last)",
      "Cell \u001b[0;32mIn[40], line 7\u001b[0m\n\u001b[1;32m      5\u001b[0m \u001b[38;5;66;03m# implement into the whole dataset\u001b[39;00m\n\u001b[1;32m      6\u001b[0m train_df_corpus \u001b[38;5;241m=\u001b[39m df_train[\u001b[38;5;124m\"\u001b[39m\u001b[38;5;124mlemmatize_text\u001b[39m\u001b[38;5;124m\"\u001b[39m]\u001b[38;5;241m.\u001b[39mtolist()\n\u001b[0;32m----> 7\u001b[0m train_df_em_1gram, vc_1gram \u001b[38;5;241m=\u001b[39m \u001b[43mcv\u001b[49m\u001b[43m(\u001b[49m\u001b[43mtrain_df_corpus\u001b[49m\u001b[43m,\u001b[49m\u001b[43m \u001b[49m\u001b[38;5;241;43m1\u001b[39;49m\u001b[43m)\u001b[49m\n\u001b[1;32m     10\u001b[0m model \u001b[38;5;241m=\u001b[39m LogisticRegression()\n\u001b[1;32m     11\u001b[0m model\u001b[38;5;241m.\u001b[39mfit(train_df_em_1gram[:\u001b[38;5;241m4000\u001b[39m], y[:\u001b[38;5;241m4000\u001b[39m])\n",
      "Cell \u001b[0;32mIn[30], line 6\u001b[0m, in \u001b[0;36mcv\u001b[0;34m(train, test, ngram, MAX_NB_WORDS)\u001b[0m\n\u001b[1;32m      4\u001b[0m count_vectorizer \u001b[38;5;241m=\u001b[39m CountVectorizer(ngram_range \u001b[38;5;241m=\u001b[39m (ngram, ngram), max_features \u001b[38;5;241m=\u001b[39m MAX_NB_WORDS)\n\u001b[1;32m      5\u001b[0m train_vectorize \u001b[38;5;241m=\u001b[39m count_vectorizer\u001b[38;5;241m.\u001b[39mfit_transform(train)\u001b[38;5;241m.\u001b[39mtoarray()\n\u001b[0;32m----> 6\u001b[0m test_vectorize \u001b[38;5;241m=\u001b[39m  \u001b[43mcount_vectorizer\u001b[49m\u001b[38;5;241;43m.\u001b[39;49m\u001b[43mtransform\u001b[49m\u001b[43m(\u001b[49m\u001b[43mtest\u001b[49m\u001b[43m)\u001b[49m\u001b[38;5;241m.\u001b[39mtoarray()\n\u001b[1;32m      7\u001b[0m \u001b[38;5;28mprint\u001b[39m(\u001b[38;5;124m\"\u001b[39m\u001b[38;5;124mcount vectorize with\u001b[39m\u001b[38;5;124m\"\u001b[39m, \u001b[38;5;28mstr\u001b[39m(np\u001b[38;5;241m.\u001b[39marray(train_vectorize)\u001b[38;5;241m.\u001b[39mshape[\u001b[38;5;241m1\u001b[39m]), \u001b[38;5;124m\"\u001b[39m\u001b[38;5;124mfeatures\u001b[39m\u001b[38;5;124m\"\u001b[39m)\n\u001b[1;32m      8\u001b[0m \u001b[38;5;28mprint\u001b[39m(\u001b[38;5;124m\"\u001b[39m\u001b[38;5;124mcount vectorize with\u001b[39m\u001b[38;5;124m\"\u001b[39m, \u001b[38;5;28mstr\u001b[39m(np\u001b[38;5;241m.\u001b[39marray(test_vectorize)\u001b[38;5;241m.\u001b[39mshape[\u001b[38;5;241m1\u001b[39m]), \u001b[38;5;124m\"\u001b[39m\u001b[38;5;124mfeatures\u001b[39m\u001b[38;5;124m\"\u001b[39m)\n",
      "File \u001b[0;32m~/miniforge3/lib/python3.10/site-packages/sklearn/feature_extraction/text.py:1433\u001b[0m, in \u001b[0;36mCountVectorizer.transform\u001b[0;34m(self, raw_documents)\u001b[0m\n\u001b[1;32m   1430\u001b[0m \u001b[38;5;28mself\u001b[39m\u001b[38;5;241m.\u001b[39m_check_vocabulary()\n\u001b[1;32m   1432\u001b[0m \u001b[38;5;66;03m# use the same matrix-building strategy as fit_transform\u001b[39;00m\n\u001b[0;32m-> 1433\u001b[0m _, X \u001b[38;5;241m=\u001b[39m \u001b[38;5;28;43mself\u001b[39;49m\u001b[38;5;241;43m.\u001b[39;49m\u001b[43m_count_vocab\u001b[49m\u001b[43m(\u001b[49m\u001b[43mraw_documents\u001b[49m\u001b[43m,\u001b[49m\u001b[43m \u001b[49m\u001b[43mfixed_vocab\u001b[49m\u001b[38;5;241;43m=\u001b[39;49m\u001b[38;5;28;43;01mTrue\u001b[39;49;00m\u001b[43m)\u001b[49m\n\u001b[1;32m   1434\u001b[0m \u001b[38;5;28;01mif\u001b[39;00m \u001b[38;5;28mself\u001b[39m\u001b[38;5;241m.\u001b[39mbinary:\n\u001b[1;32m   1435\u001b[0m     X\u001b[38;5;241m.\u001b[39mdata\u001b[38;5;241m.\u001b[39mfill(\u001b[38;5;241m1\u001b[39m)\n",
      "File \u001b[0;32m~/miniforge3/lib/python3.10/site-packages/sklearn/feature_extraction/text.py:1273\u001b[0m, in \u001b[0;36mCountVectorizer._count_vocab\u001b[0;34m(self, raw_documents, fixed_vocab)\u001b[0m\n\u001b[1;32m   1271\u001b[0m values \u001b[38;5;241m=\u001b[39m _make_int_array()\n\u001b[1;32m   1272\u001b[0m indptr\u001b[38;5;241m.\u001b[39mappend(\u001b[38;5;241m0\u001b[39m)\n\u001b[0;32m-> 1273\u001b[0m \u001b[38;5;28;01mfor\u001b[39;00m doc \u001b[38;5;129;01min\u001b[39;00m raw_documents:\n\u001b[1;32m   1274\u001b[0m     feature_counter \u001b[38;5;241m=\u001b[39m {}\n\u001b[1;32m   1275\u001b[0m     \u001b[38;5;28;01mfor\u001b[39;00m feature \u001b[38;5;129;01min\u001b[39;00m analyze(doc):\n",
      "\u001b[0;31mTypeError\u001b[0m: 'int' object is not iterable"
     ]
    }
   ],
   "source": [
    "from sklearn.metrics import confusion_matrix,classification_report\n",
    "import seaborn as sns\n",
    "import matplotlib.pyplot as plt \n",
    "\n",
    "# implement into the whole dataset\n",
    "train_df_corpus = df_train[\"lemmatize_text\"].tolist()\n",
    "train_df_em_1gram, vc_1gram = cv(train_df_corpus, 1)\n",
    "\n",
    "\n",
    "model = LogisticRegression()\n",
    "model.fit(train_df_em_1gram[:4000], y[:4000])\n",
    "y_pred = model.predict(train_df_em_1gram[4000:])\n",
    "\n",
    "\n",
    "cm = confusion_matrix(y[4000:],y_pred)\n",
    "\n",
    "sns.heatmap(cm, annot=True, fmt='g', xticklabels=['Dog','Not Dog'], yticklabels=['Dog','Not Dog']) \n",
    "plt.ylabel('Actual', fontsize=13) \n",
    "plt.title('Confusion Matrix', fontsize=17, pad=20) \n",
    "plt.gca().xaxis.set_label_position('top')\n",
    "plt.xlabel('Prediction', fontsize=13) \n",
    "plt.gca().xaxis.tick_top() \n",
    "plt.gca().figure.subplots_adjust(bottom=0.2)\n",
    "plt.gca().figure.text(0.5, 0.05, 'Prediction', ha='center', fontsize=13)\n",
    "plt.show()"
   ]
  },
  {
   "cell_type": "code",
   "execution_count": null,
   "id": "b23581ed-53ad-447a-a9b5-ce0fada27aad",
   "metadata": {},
   "outputs": [],
   "source": [
    "from sklearn.metrics import confusion_matrix,classification_report\n",
    "import seaborn as sns\n",
    "import matplotlib.pyplot as plt \n",
    "\n",
    "# implement into the whole dataset\n",
    "train_df_corpus = df_train[\"porter_stemmer\"].apply(lambda x : \" \".join(x))\n",
    "train_df_em_1gram, vc_1gram = cv(train_df_corpus, 1)\n",
    "\n",
    "\n",
    "model = LogisticRegression()\n",
    "model.fit(train_df_em_1gram[:4000], y[:4000])\n",
    "y_pred = model.predict(train_df_em_1gram[4000:])\n",
    "\n",
    "\n",
    "cm = confusion_matrix(y[4000:],y_pred)\n",
    "\n",
    "sns.heatmap(cm, annot=True, fmt='g', xticklabels=['Dog','Not Dog'], yticklabels=['Dog','Not Dog']) \n",
    "plt.ylabel('Actual', fontsize=13) \n",
    "plt.title('Confusion Matrix', fontsize=17, pad=20) \n",
    "plt.gca().xaxis.set_label_position('top')\n",
    "plt.xlabel('Prediction', fontsize=13) \n",
    "plt.gca().xaxis.tick_top() \n",
    "plt.gca().figure.subplots_adjust(bottom=0.2)\n",
    "plt.gca().figure.text(0.5, 0.05, 'Prediction', ha='center', fontsize=13)\n",
    "plt.show()"
   ]
  },
  {
   "cell_type": "code",
   "execution_count": null,
   "id": "c19e38c9-9160-46c3-a8a2-f15a82418727",
   "metadata": {},
   "outputs": [],
   "source": [
    "from sklearn.metrics import confusion_matrix,classification_report\n",
    "import seaborn as sns\n",
    "import matplotlib.pyplot as plt \n",
    "\n",
    "# implement into the whole dataset\n",
    "train_df_corpus = df_train[\"lancaster_stemmer\"].apply(lambda x : \" \".join(x))\n",
    "train_df_em_1gram, vc_1gram = cv(train_df_corpus, 1)\n",
    "\n",
    "\n",
    "model = LogisticRegression()\n",
    "model.fit(train_df_em_1gram[:4000], y[:4000])\n",
    "y_pred = model.predict(train_df_em_1gram[4000:])\n",
    "\n",
    "\n",
    "cm = confusion_matrix(y[4000:],y_pred)\n",
    "\n",
    "sns.heatmap(cm, annot=True, fmt='g', xticklabels=['Dog','Not Dog'], yticklabels=['Dog','Not Dog']) \n",
    "plt.ylabel('Actual', fontsize=13) \n",
    "plt.title('Confusion Matrix', fontsize=17, pad=20) \n",
    "plt.gca().xaxis.set_label_position('top')\n",
    "plt.xlabel('Prediction', fontsize=13) \n",
    "plt.gca().xaxis.tick_top() \n",
    "plt.gca().figure.subplots_adjust(bottom=0.2)\n",
    "plt.gca().figure.text(0.5, 0.05, 'Prediction', ha='center', fontsize=13)\n",
    "plt.show()"
   ]
  },
  {
   "cell_type": "code",
   "execution_count": null,
   "id": "f0b826ec-8fb3-474a-a2e9-3d5d75a47d56",
   "metadata": {},
   "outputs": [],
   "source": [
    "from sklearn.metrics import confusion_matrix,classification_report\n",
    "import seaborn as sns\n",
    "import matplotlib.pyplot as plt \n",
    "\n",
    "# implement into the whole dataset\n",
    "train_df_corpus = df_train[\"snowball_stemmer\"].apply(lambda x : \" \".join(x))\n",
    "train_df_em_1gram, vc_1gram = cv(train_df_corpus, 1)\n",
    "\n",
    "\n",
    "model = LogisticRegression()\n",
    "model.fit(train_df_em_1gram[:4000], y[:4000])\n",
    "y_pred = model.predict(train_df_em_1gram[4000:])\n",
    "\n",
    "\n",
    "cm = confusion_matrix(y[4000:],y_pred)\n",
    "\n",
    "sns.heatmap(cm, annot=True, fmt='g', xticklabels=['Dog','Not Dog'], yticklabels=['Dog','Not Dog']) \n",
    "plt.ylabel('Actual', fontsize=13) \n",
    "plt.title('Confusion Matrix', fontsize=17, pad=20) \n",
    "plt.gca().xaxis.set_label_position('top')\n",
    "plt.xlabel('Prediction', fontsize=13) \n",
    "plt.gca().xaxis.tick_top() \n",
    "plt.gca().figure.subplots_adjust(bottom=0.2)\n",
    "plt.gca().figure.text(0.5, 0.05, 'Prediction', ha='center', fontsize=13)\n",
    "plt.show()"
   ]
  },
  {
   "cell_type": "code",
   "execution_count": null,
   "id": "be24ef7a-054f-44c3-a806-52708705b473",
   "metadata": {},
   "outputs": [],
   "source": []
  },
  {
   "cell_type": "code",
   "execution_count": null,
   "id": "aaff831d-a146-4edf-8230-625fa76fb198",
   "metadata": {},
   "outputs": [],
   "source": [
    "df_train"
   ]
  },
  {
   "cell_type": "code",
   "execution_count": null,
   "id": "e6638278-7422-43dc-ae98-0ad08679e6c9",
   "metadata": {},
   "outputs": [],
   "source": [
    "data = df_train[\"combined_postag_wnet\"]\n",
    "\n",
    "# Create a vocabulary of tokens and their corresponding indices\n",
    "token_to_idx = {}\n",
    "idx_to_token = {}\n",
    "pos_to_idx = {}\n",
    "idx_to_pos = {}\n",
    "\n",
    "# Iterate through the data and build the vocabularies\n",
    "for example in data:\n",
    "    for token, pos in example:\n",
    "        if token not in token_to_idx:\n",
    "            token_idx = len(token_to_idx)\n",
    "            token_to_idx[token] = token_idx\n",
    "            idx_to_token[token_idx] = token\n",
    "        if pos not in pos_to_idx:\n",
    "            pos_idx = len(pos_to_idx)\n",
    "            pos_to_idx[pos] = pos_idx\n",
    "            idx_to_pos[pos_idx] = pos\n",
    "\n",
    "# Encode the data\n",
    "X_token = [[token_to_idx[token] for token, _ in example] for example in data]\n",
    "X_pos = [[pos_to_idx[pos] for _, pos in example] for example in data]"
   ]
  },
  {
   "cell_type": "code",
   "execution_count": null,
   "id": "7d8d87e3-9d4b-42b2-aedc-6cfda9daddcb",
   "metadata": {},
   "outputs": [],
   "source": [
    "data = df_train[\"combined_postag_wnet\"]\n",
    "words = []\n",
    "pos_tags = []"
   ]
  },
  {
   "cell_type": "code",
   "execution_count": null,
   "id": "03995cae-5ece-42f2-b9c0-9f4c7a01f940",
   "metadata": {},
   "outputs": [],
   "source": [
    "for i in list(zip(*data))[0]:\n",
    "    words.append(i[0]) , pos_tags.append(i[1])"
   ]
  },
  {
   "cell_type": "code",
   "execution_count": null,
   "id": "7d4b1b0a-686a-4a6c-a632-d4d166a70a5e",
   "metadata": {},
   "outputs": [],
   "source": [
    "vocab"
   ]
  },
  {
   "cell_type": "code",
   "execution_count": null,
   "id": "b6801a8b-f3d1-4931-af43-4ff9eb6f5f68",
   "metadata": {},
   "outputs": [],
   "source": [
    "import numpy as np\n",
    "from sklearn.feature_extraction.text import CountVectorizer\n",
    "from sklearn.preprocessing import LabelEncoder\n",
    "from sklearn.linear_model import LogisticRegression\n",
    "# Sample data\n",
    "data = df_train[\"combined_postag_wnet\"]\n",
    "# Tokenize the data and create encodings\n",
    "vectorizer = CountVectorizer()\n",
    "vectorizer.fit(words)\n",
    "vocab = vectorizer.vocabulary_\n",
    "word_encodings = [vocab[word] for word in words]\n",
    "le = LabelEncoder()\n",
    "le.fit(pos_tags)\n",
    "pos_encodings = le.transform(pos_tags)\n",
    "X = list(zip(word_encodings, pos_encodings))\n",
    "y = df_train[\"target\"] # Assuming you have a target variable\n",
    "\n",
    "# Train a logistic regression model\n",
    "model = LogisticRegression()\n",
    "model.fit(X, y)\n",
    "\n",
    "# Make predictions\n",
    "new_data = [('aboud', 'N'), ('like', 'adj')]\n",
    "new_words, new_pos_tags = zip(*new_data)\n",
    "new_word_encodings = [vocab[word] for word in new_words]\n",
    "new_pos_encodings = le.transform(new_pos_tags)\n",
    "new_X = list(zip(new_word_encodings, new_pos_encodings))\n",
    "predictions = model.predict(new_X)\n",
    "print(predictions)\n"
   ]
  },
  {
   "cell_type": "code",
   "execution_count": null,
   "id": "2e0cc173-f628-481f-b3f5-08163020235e",
   "metadata": {},
   "outputs": [],
   "source": [
    "import numpy as np\n",
    "import tensorflow as tf\n",
    "from tensorflow.keras.models import Sequential\n",
    "from tensorflow.keras.layers import Dense, Input, Embedding, Flatten\n",
    "from tensorflow.keras.optimizers import Adam\n",
    "from tensorflow.keras.models import Model\n",
    "from tensorflow.keras.layers import Input, Dense, Embedding, Concatenate\n",
    "\n",
    "max_seq_len = max(len(example) for example in X_token)\n",
    "\n",
    "# Pad the sequences to the max length\n",
    "X_token = tf.keras.preprocessing.sequence.pad_sequences(X_token, maxlen=max_seq_len, padding='post')\n",
    "X_pos = tf.keras.preprocessing.sequence.pad_sequences(X_pos, maxlen=max_seq_len, padding='post')\n",
    "\n",
    "# Assuming you have labels in another column\n",
    "y = df_train[\"target\"].values\n",
    "\n",
    "# Define the input layers\n",
    "token_input = Input(shape=(max_seq_len,), name='token_input')\n",
    "pos_input = Input(shape=(max_seq_len,), name='pos_input')\n",
    "\n",
    "# Define the embedding layers\n",
    "token_embedding = Embedding(len(token_to_idx), 64, input_length=max_seq_len, name='token_embedding')(token_input)\n",
    "pos_embedding = Embedding(len(pos_to_idx), 32, input_length=max_seq_len, name='pos_embedding')(pos_input)\n",
    "\n",
    "# Concatenate the embeddings\n",
    "combined_input = Concatenate(name='combined_input')([token_embedding, pos_embedding])\n",
    "\n",
    "# Define the dense layers\n",
    "x = Dense(128, activation='relu', name='dense1')(combined_input)\n",
    "x = Dense(64, activation='relu', name='dense2')(x)\n",
    "output = Dense(24, activation='sigmoid', name='output')(x)\n",
    "\n",
    "# Create the model\n",
    "model = Model(inputs=[token_input, pos_input], outputs=output)\n",
    "\n",
    "# Compile the model\n",
    "model.compile(optimizer=Adam(), loss='binary_crossentropy', metrics=['accuracy'])\n",
    "\n",
    "# Train the model\n",
    "model.fit([X_token, X_pos], y, epochs=100, batch_size=32, verbose=0)\n",
    "\n",
    "# Make predictions\n",
    "new_data_token = [[token_to_idx[token] for token, _ in example] for example in new_data]\n",
    "new_data_pos = [[pos_to_idx[pos] for _, pos in example] for example in new_data]\n",
    "\n",
    "new_predictions = model.predict([new_data_token, new_data_pos])\n",
    "print(new_predictions)"
   ]
  },
  {
   "cell_type": "code",
   "execution_count": null,
   "id": "07be2629-7c63-44bc-a86e-2961ac609658",
   "metadata": {},
   "outputs": [],
   "source": []
  },
  {
   "cell_type": "code",
   "execution_count": null,
   "id": "9befac8b-b86b-4175-8791-2d4c9907793d",
   "metadata": {},
   "outputs": [],
   "source": []
  },
  {
   "cell_type": "code",
   "execution_count": null,
   "id": "8bdd53a7-d0b4-4f2d-98ad-85e9dc07bd3b",
   "metadata": {},
   "outputs": [],
   "source": []
  }
 ],
 "metadata": {
  "kernelspec": {
   "display_name": "Python 3 (ipykernel)",
   "language": "python",
   "name": "python3"
  },
  "language_info": {
   "codemirror_mode": {
    "name": "ipython",
    "version": 3
   },
   "file_extension": ".py",
   "mimetype": "text/x-python",
   "name": "python",
   "nbconvert_exporter": "python",
   "pygments_lexer": "ipython3",
   "version": "3.11.7"
  }
 },
 "nbformat": 4,
 "nbformat_minor": 5
}
